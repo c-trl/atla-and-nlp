{
 "metadata": {
  "name": "",
  "signature": "sha256:930356213f0053be3806728c18b3e845222f3e4232c7a3aa86f0585ea3ac4950"
 },
 "nbformat": 3,
 "nbformat_minor": 0,
 "worksheets": [
  {
   "cells": [
    {
     "cell_type": "code",
     "collapsed": false,
     "input": [
      "import pandas as pd\n",
      "import matplotlib as mpl\n",
      "from matplotlib import pyplot as plt\n",
      "\n",
      "pd.options.display.mpl_style = 'default'\n",
      "\n",
      "import brewer2mpl\n",
      "bmap = brewer2mpl.get_map('Set2','qualitative',8,reverse=False)\n",
      "colors = bmap.mpl_colors\n",
      "font = {'family' : 'Open Sans',\n",
      "        'weight' : 'normal',\n",
      "        'size'   : 24}\n",
      "bigfont = {'family' : 'Open Sans',\n",
      "        'weight' : 'normal',\n",
      "        'size'   : 36,\n",
      "        'color'  : '#333333'}\n",
      "\n",
      "mpl.rc('font', **font)\n",
      "mpl.rc('lines', linewidth=5)\n",
      "mpl.rcParams['legend.fontsize'] = 20"
     ],
     "language": "python",
     "metadata": {},
     "outputs": [],
     "prompt_number": 1
    },
    {
     "cell_type": "markdown",
     "metadata": {},
     "source": [
      "#Web Sentiment Estimator\n",
      "A modified sentiment estimator script will be used here to estimate the sentiment of each episode from the series Avatar: The Last Airbender."
     ]
    },
    {
     "cell_type": "markdown",
     "metadata": {},
     "source": [
      "---"
     ]
    },
    {
     "cell_type": "code",
     "collapsed": false,
     "input": [
      "url = 'http://atla.avatarspirit.net/transcripts.php?num='\n",
      "pages = range(101,121)+range(201,221)+range(301,322)\n",
      "urls = [url+str(x) for x in pages]"
     ],
     "language": "python",
     "metadata": {},
     "outputs": [],
     "prompt_number": 2
    },
    {
     "cell_type": "code",
     "collapsed": false,
     "input": [
      "def web_sentiment_estimator(url):\n",
      "\n",
      "    #RECEIVING AND PARSING WEBPAGE TEXT\n",
      "    import requests\n",
      "    html = requests.get(url).text #gets and stores webpage's hmtl source code in string variable 'html'\n",
      "\n",
      "    from bs4 import BeautifulSoup as bs\n",
      "    soup = bs(html) #converts string variable to unicode\n",
      "    souped_text = soup.get_text() #stores unicode text in variable 'souped_text'\n",
      "    encoded_text = souped_text.encode('utf-8') #converts unicode text to utf-8\n",
      "\n",
      "    #EXCLUDE NON-RELEVANT PAGE SECTIONS\n",
      "    top = 'Transcriber'\n",
      "    bottom = '[End Credits]'\n",
      "    text = encoded_text.split(top)[1].split(bottom)[0]\n",
      "    \n",
      "    #TOKENIZE TEXT\n",
      "    import nltk\n",
      "    tokens = nltk.word_tokenize(encoded_text) #tokenizes unicode text, separating each word and turning it into an item in list 'tokens'\n",
      "    alpha = [word for word in tokens if word.isalpha() == True] #filters tokens to exclude non-alphabetic words\n",
      "\n",
      "    #IMPORTING DATAFRAME FUNCTIONALITY\n",
      "    import pandas as pd\n",
      "    alpha_df = pd.DataFrame(alpha)\n",
      "    alpha_df.columns=['Word']\n",
      "\n",
      "    #IMPORTING STOPWORD CORPUS\n",
      "    from nltk.corpus import stopwords\n",
      "    stopwords = stopwords.words('english')\n",
      "    no_stopwords_df = alpha_df[[x not in stopwords for x in alpha_df['Word']]] # excludes stopwords\n",
      "    df = no_stopwords_df\n",
      "\n",
      "    #ESTABLISHING WORD COUNTS FOR EACH UNIQUE WORD\n",
      "    df['Word Count'] = [1 for x in df['Word']]\n",
      "    df = df.groupby(['Word']).count()\n",
      "    df = df.reset_index()\n",
      "\n",
      "    #DETERMINING FREQUENCY-WEIGHTS FOR EACH WORD\n",
      "    df['Frequency-Weight'] = 1\n",
      "    df.ix[df['Word Count'] == 1, 'Frequency-Weight'] = 2\n",
      "    df.ix[df['Word Count'] > 10, 'Frequency-Weight'] = 0.5\n",
      "\n",
      "    #CALCULATING SHARE OF TEXT FOR EACH UNIQUE WORD\n",
      "    df['Share of Words'] = df['Word Count']/df['Word Count'].sum()\n",
      "\n",
      "    #ASSIGNING INITAL POLARITY WITH PRE-DEFINED POS/NEG WORDBANKS\n",
      "    df['Polarity'] = 0\n",
      "\n",
      "    positive_emotions = ['curious', 'attract', 'surprise', 'hope', 'Hope', \n",
      "                     'thank', 'joy', 'relief', 'proud', 'Joy', \n",
      "                     'generous', 'sympath', 'love', 'amuse', 'Love',\n",
      "                     'delight', 'elat', 'excit', 'happy', 'happi', 'Happi',\n",
      "                     'joy', 'pleasure', 'affection', 'empath', 'friendl']\n",
      "    negative_emotions = ['alarm', 'disgust', 'indifferen', 'fear', 'Fear', \n",
      "                     'rage', 'sorrow', 'grief', 'frustrat', 'disappoint', \n",
      "                     'embarrass', 'shame', 'guilt', 'remorse', 'greed', 'Greed',  \n",
      "                     'miser', 'jealous', 'cruel', 'hate', 'anger', 'annoyed', 'Anger', 'Hate',\n",
      "                     'disgust', 'irrit', 'anxious', 'anxiety', 'helpless',\n",
      "                     'worry', 'doubt', 'shame', 'bored', 'despar', 'hurt']\n",
      "\n",
      "    \n",
      "    #PROCESSING PRE-DEFINED POSITIVE AND NEGATIVE WORDBANKS\n",
      "    pos_bank = 'https://raw.githubusercontent.com/c-trl/nlp-with-xanga-entries/master/positive_wordbank.txt'\n",
      "    pos_words_text = requests.get(pos_bank).text\n",
      "    pos_soup = bs(pos_words_text) #converts string variable to unicode\n",
      "    souped_pos_words = pos_soup.get_text() #stores unicode text in variable 'souped_text'\n",
      "    encoded_pos_words = souped_pos_words.encode('utf-8') #converts unicode text to utf-8\n",
      "    positive_words = nltk.word_tokenize(encoded_pos_words) #tokenizes unicode text, separating each word and turning it into an item in list 'tokens'\n",
      "\n",
      "    neg_bank = 'https://raw.githubusercontent.com/c-trl/nlp-with-xanga-entries/master/negative_wordbank.txt'    \n",
      "    neg_words_text = requests.get(neg_bank).text\n",
      "    neg_soup = bs(neg_words_text) #converts string variable to unicode\n",
      "    souped_neg_words = neg_soup.get_text() #stores unicode text in variable 'souped_text'\n",
      "    encoded_neg_words = souped_neg_words.encode('utf-8') #converts unicode text to utf-8\n",
      "    negative_words = nltk.word_tokenize(encoded_neg_words)\n",
      "\n",
      "    df.ix[df.Word.isin(positive_emotions), 'Polarity'] = 1\n",
      "    df.ix[df.Word.isin(negative_emotions), 'Polarity'] = -1\n",
      "    df.ix[df.Word.isin(positive_words), 'Polarity'] = 1\n",
      "    df.ix[df.Word.isin(negative_words), 'Polarity'] = -1\n",
      "\n",
      "    df['Adjusted Sentiment'] = df['Polarity'] * df['Frequency-Weight']\n",
      "    df['Relative Weight'] = df['Word Count'] * df['Adjusted Sentiment']\n",
      "    df['Episode'] = url[-3:]\n",
      "    \n",
      "    x = sum(df['Relative Weight'])\n",
      "    if x > 0:\n",
      "        pos_or_neg = 'Positive'\n",
      "    if x == 0:\n",
      "        pos_or_neg = 'Neutral'\n",
      "    if x < 0:\n",
      "        pos_or_neg = 'Negative'\n",
      "        \n",
      "    pos_words = len([weight for weight in df['Relative Weight'] if weight > 0])\n",
      "    neg_words = len([weight for weight in df['Relative Weight'] if weight < 0])\n",
      "        \n",
      "    #RETURNING PRINTED REPORT\n",
      "    print 'Aggregate text sentiment for episode',str(url[-3:])+':', pos_or_neg\n",
      "\n",
      "    with open(str(url[-3:]+'.csv'), 'w') as f:\n",
      "        df.to_csv(f, sep=',')\n",
      "        f.close()"
     ],
     "language": "python",
     "metadata": {},
     "outputs": [],
     "prompt_number": 3
    },
    {
     "cell_type": "markdown",
     "metadata": {},
     "source": [
      "The estimator script has been modified to write a dataframe for each episode containing sentiment data to an exclusive csv file."
     ]
    },
    {
     "cell_type": "code",
     "collapsed": false,
     "input": [
      "for url in urls:\n",
      "    web_sentiment_estimator(url)"
     ],
     "language": "python",
     "metadata": {},
     "outputs": [
      {
       "output_type": "stream",
       "stream": "stdout",
       "text": [
        "Aggregate text sentiment for episode 101: Negative\n",
        "Aggregate text sentiment for episode"
       ]
      },
      {
       "output_type": "stream",
       "stream": "stdout",
       "text": [
        " 102: Negative\n",
        "Aggregate text sentiment for episode"
       ]
      },
      {
       "output_type": "stream",
       "stream": "stdout",
       "text": [
        " 103: Negative\n",
        "Aggregate text sentiment for episode"
       ]
      },
      {
       "output_type": "stream",
       "stream": "stdout",
       "text": [
        " 104: Negative\n",
        "Aggregate text sentiment for episode"
       ]
      },
      {
       "output_type": "stream",
       "stream": "stdout",
       "text": [
        " 105: Negative\n",
        "Aggregate text sentiment for episode"
       ]
      },
      {
       "output_type": "stream",
       "stream": "stdout",
       "text": [
        " 106: Negative\n",
        "Aggregate text sentiment for episode"
       ]
      },
      {
       "output_type": "stream",
       "stream": "stdout",
       "text": [
        " 107: Negative\n",
        "Aggregate text sentiment for episode"
       ]
      },
      {
       "output_type": "stream",
       "stream": "stdout",
       "text": [
        " 108: Negative\n",
        "Aggregate text sentiment for episode"
       ]
      },
      {
       "output_type": "stream",
       "stream": "stdout",
       "text": [
        " 109: Negative\n",
        "Aggregate text sentiment for episode"
       ]
      },
      {
       "output_type": "stream",
       "stream": "stdout",
       "text": [
        " 110: Negative\n",
        "Aggregate text sentiment for episode"
       ]
      },
      {
       "output_type": "stream",
       "stream": "stdout",
       "text": [
        " 111: Negative\n",
        "Aggregate text sentiment for episode"
       ]
      },
      {
       "output_type": "stream",
       "stream": "stdout",
       "text": [
        " 112: Negative\n",
        "Aggregate text sentiment for episode"
       ]
      },
      {
       "output_type": "stream",
       "stream": "stdout",
       "text": [
        " 113: Negative\n",
        "Aggregate text sentiment for episode"
       ]
      },
      {
       "output_type": "stream",
       "stream": "stdout",
       "text": [
        " 114: Negative\n",
        "Aggregate text sentiment for episode"
       ]
      },
      {
       "output_type": "stream",
       "stream": "stdout",
       "text": [
        " 115: Negative\n",
        "Aggregate text sentiment for episode"
       ]
      },
      {
       "output_type": "stream",
       "stream": "stdout",
       "text": [
        " 116: Negative\n",
        "Aggregate text sentiment for episode"
       ]
      },
      {
       "output_type": "stream",
       "stream": "stdout",
       "text": [
        " 117: Negative\n",
        "Aggregate text sentiment for episode"
       ]
      },
      {
       "output_type": "stream",
       "stream": "stdout",
       "text": [
        " 118: Negative\n",
        "Aggregate text sentiment for episode"
       ]
      },
      {
       "output_type": "stream",
       "stream": "stdout",
       "text": [
        " 119: Negative\n",
        "Aggregate text sentiment for episode"
       ]
      },
      {
       "output_type": "stream",
       "stream": "stdout",
       "text": [
        " 120: Negative\n",
        "Aggregate text sentiment for episode"
       ]
      },
      {
       "output_type": "stream",
       "stream": "stdout",
       "text": [
        " 201: Negative\n",
        "Aggregate text sentiment for episode"
       ]
      },
      {
       "output_type": "stream",
       "stream": "stdout",
       "text": [
        " 202: Negative\n",
        "Aggregate text sentiment for episode"
       ]
      },
      {
       "output_type": "stream",
       "stream": "stdout",
       "text": [
        " 203: Negative\n",
        "Aggregate text sentiment for episode"
       ]
      },
      {
       "output_type": "stream",
       "stream": "stdout",
       "text": [
        " 204: Negative\n",
        "Aggregate text sentiment for episode"
       ]
      },
      {
       "output_type": "stream",
       "stream": "stdout",
       "text": [
        " 205: Negative\n",
        "Aggregate text sentiment for episode"
       ]
      },
      {
       "output_type": "stream",
       "stream": "stdout",
       "text": [
        " 206: Negative\n",
        "Aggregate text sentiment for episode"
       ]
      },
      {
       "output_type": "stream",
       "stream": "stdout",
       "text": [
        " 207: Negative\n",
        "Aggregate text sentiment for episode"
       ]
      },
      {
       "output_type": "stream",
       "stream": "stdout",
       "text": [
        " 208: Negative\n",
        "Aggregate text sentiment for episode"
       ]
      },
      {
       "output_type": "stream",
       "stream": "stdout",
       "text": [
        " 209: Negative\n",
        "Aggregate text sentiment for episode"
       ]
      },
      {
       "output_type": "stream",
       "stream": "stdout",
       "text": [
        " 210: Negative\n",
        "Aggregate text sentiment for episode"
       ]
      },
      {
       "output_type": "stream",
       "stream": "stdout",
       "text": [
        " 211: Negative\n",
        "Aggregate text sentiment for episode"
       ]
      },
      {
       "output_type": "stream",
       "stream": "stdout",
       "text": [
        " 212: Negative\n",
        "Aggregate text sentiment for episode"
       ]
      },
      {
       "output_type": "stream",
       "stream": "stdout",
       "text": [
        " 213: Negative\n",
        "Aggregate text sentiment for episode"
       ]
      },
      {
       "output_type": "stream",
       "stream": "stdout",
       "text": [
        " 214: Negative\n",
        "Aggregate text sentiment for episode"
       ]
      },
      {
       "output_type": "stream",
       "stream": "stdout",
       "text": [
        " 215: Negative\n",
        "Aggregate text sentiment for episode"
       ]
      },
      {
       "output_type": "stream",
       "stream": "stdout",
       "text": [
        " 216: Negative\n",
        "Aggregate text sentiment for episode"
       ]
      },
      {
       "output_type": "stream",
       "stream": "stdout",
       "text": [
        " 217: Negative\n",
        "Aggregate text sentiment for episode"
       ]
      },
      {
       "output_type": "stream",
       "stream": "stdout",
       "text": [
        " 218: Negative\n",
        "Aggregate text sentiment for episode"
       ]
      },
      {
       "output_type": "stream",
       "stream": "stdout",
       "text": [
        " 219: Negative\n",
        "Aggregate text sentiment for episode"
       ]
      },
      {
       "output_type": "stream",
       "stream": "stdout",
       "text": [
        " 220: Negative\n",
        "Aggregate text sentiment for episode"
       ]
      },
      {
       "output_type": "stream",
       "stream": "stdout",
       "text": [
        " 301: Negative\n",
        "Aggregate text sentiment for episode"
       ]
      },
      {
       "output_type": "stream",
       "stream": "stdout",
       "text": [
        " 302: Negative\n",
        "Aggregate text sentiment for episode"
       ]
      },
      {
       "output_type": "stream",
       "stream": "stdout",
       "text": [
        " 303: Negative\n",
        "Aggregate text sentiment for episode"
       ]
      },
      {
       "output_type": "stream",
       "stream": "stdout",
       "text": [
        " 304: Negative\n",
        "Aggregate text sentiment for episode"
       ]
      },
      {
       "output_type": "stream",
       "stream": "stdout",
       "text": [
        " 305: Negative\n",
        "Aggregate text sentiment for episode"
       ]
      },
      {
       "output_type": "stream",
       "stream": "stdout",
       "text": [
        " 306: Positive\n",
        "Aggregate text sentiment for episode"
       ]
      },
      {
       "output_type": "stream",
       "stream": "stdout",
       "text": [
        " 307: Negative\n",
        "Aggregate text sentiment for episode"
       ]
      },
      {
       "output_type": "stream",
       "stream": "stdout",
       "text": [
        " 308: Negative\n",
        "Aggregate text sentiment for episode"
       ]
      },
      {
       "output_type": "stream",
       "stream": "stdout",
       "text": [
        " 309: Negative\n",
        "Aggregate text sentiment for episode"
       ]
      },
      {
       "output_type": "stream",
       "stream": "stdout",
       "text": [
        " 310: Negative\n",
        "Aggregate text sentiment for episode"
       ]
      },
      {
       "output_type": "stream",
       "stream": "stdout",
       "text": [
        " 311: Negative\n",
        "Aggregate text sentiment for episode"
       ]
      },
      {
       "output_type": "stream",
       "stream": "stdout",
       "text": [
        " 312: Negative\n",
        "Aggregate text sentiment for episode"
       ]
      },
      {
       "output_type": "stream",
       "stream": "stdout",
       "text": [
        " 313: Negative\n",
        "Aggregate text sentiment for episode"
       ]
      },
      {
       "output_type": "stream",
       "stream": "stdout",
       "text": [
        " 314: Negative\n",
        "Aggregate text sentiment for episode"
       ]
      },
      {
       "output_type": "stream",
       "stream": "stdout",
       "text": [
        " 315: Negative\n",
        "Aggregate text sentiment for episode"
       ]
      },
      {
       "output_type": "stream",
       "stream": "stdout",
       "text": [
        " 316: Negative\n",
        "Aggregate text sentiment for episode"
       ]
      },
      {
       "output_type": "stream",
       "stream": "stdout",
       "text": [
        " 317: Negative\n",
        "Aggregate text sentiment for episode"
       ]
      },
      {
       "output_type": "stream",
       "stream": "stdout",
       "text": [
        " 318: Negative\n",
        "Aggregate text sentiment for episode"
       ]
      },
      {
       "output_type": "stream",
       "stream": "stdout",
       "text": [
        " 319: Negative\n",
        "Aggregate text sentiment for episode"
       ]
      },
      {
       "output_type": "stream",
       "stream": "stdout",
       "text": [
        " 320: Negative\n",
        "Aggregate text sentiment for episode"
       ]
      },
      {
       "output_type": "stream",
       "stream": "stdout",
       "text": [
        " 321: Negative\n"
       ]
      }
     ],
     "prompt_number": 4
    },
    {
     "cell_type": "markdown",
     "metadata": {},
     "source": [
      "Now that we've stored dataframes for each episode individually, we can import them individually to review episodes one at a time.  All we need to do is call the file associated with the episode in question for review, which has been saved by web_sentiment_estimator() as its episode number code (eg. '101.csv')."
     ]
    },
    {
     "cell_type": "code",
     "collapsed": false,
     "input": [
      "def lite_sentiment_estimator(url):\n",
      "    #RECEIVING AND PARSING WEBPAGE TEXT\n",
      "    import requests\n",
      "    html = requests.get(url).text #gets and stores webpage's hmtl source code in string variable 'html'\n",
      "\n",
      "    from bs4 import BeautifulSoup as bs\n",
      "    soup = bs(html)\n",
      "    souped_text = soup.get_text() #stores unicode text in variable 'souped_text'\n",
      "    encoded_text = souped_text.encode('utf-8') #converts unicode text to utf-8\n",
      "\n",
      "    #EXCLUDE NON-RELEVANT PAGE SECTIONS\n",
      "    top = 'Transcriber'\n",
      "    bottom = '[End Credits]'\n",
      "    text = encoded_text.split(top)[1].split(bottom)[0]\n",
      "\n",
      "    #TOKENIZE TEXT\n",
      "    import nltk\n",
      "    tokens = nltk.word_tokenize(text) #tokenizes unicode text, separating each word and turning it into an item in list 'tokens'\n",
      "    alpha = [word for word in tokens if word.isalpha() == True] #filters tokens to exclude non-alphabetic words\n",
      "\n",
      "    #IMPORTING DATAFRAME FUNCTIONALITY\n",
      "    import pandas as pd\n",
      "    alpha_df = pd.DataFrame(alpha)\n",
      "    alpha_df.columns=['Word']\n",
      "\n",
      "    #IMPORTING STOPWORD CORPUS\n",
      "    from nltk.corpus import stopwords\n",
      "    stopwords = stopwords.words('english')\n",
      "    df = alpha_df[[x not in stopwords for x in alpha_df['Word']]] # excludes stopwords\n",
      "\n",
      "    #ESTABLISHING WORD COUNTS FOR EACH UNIQUE WORD\n",
      "    df['Word Count'] = [1 for x in df['Word']]\n",
      "    df = df.groupby(['Word']).count()\n",
      "    df = df.reset_index()\n",
      "\n",
      "    #DETERMINING FREQUENCY-WEIGHTS FOR EACH WORD\n",
      "    df['Frequency-Weight'] = 1\n",
      "    df.ix[df['Word Count'] == 1, 'Frequency-Weight'] = 2\n",
      "    df.ix[df['Word Count'] > 10, 'Frequency-Weight'] = 0.5\n",
      "\n",
      "    #CALCULATING SHARE OF TEXT FOR EACH UNIQUE WORD\n",
      "    df['Share of Words'] = df['Word Count']/df['Word Count'].sum()\n",
      "\n",
      "    #ASSIGNING INITAL POLARITY WITH PRE-DEFINED POS/NEG WORDBANKS\n",
      "    df['Polarity'] = 0\n",
      "\n",
      "    positive_emotions = ['curious', 'attract', 'surprise', 'hope', 'Hope', \n",
      "                     'thank', 'joy', 'relief', 'proud', 'Joy', \n",
      "                     'generous', 'sympath', 'love', 'amuse', 'Love',\n",
      "                     'delight', 'elat', 'excit', 'happy', 'happi', 'Happi',\n",
      "                     'joy', 'pleasure', 'affection', 'empath', 'friendl']\n",
      "    negative_emotions = ['alarm', 'disgust', 'indifferen', 'fear', 'Fear', \n",
      "                     'rage', 'sorrow', 'grief', 'frustrat', 'disappoint', \n",
      "                     'embarrass', 'shame', 'guilt', 'remorse', 'greed', 'Greed',  \n",
      "                     'miser', 'jealous', 'cruel', 'hate', 'anger', 'annoyed', 'Anger', 'Hate',\n",
      "                     'disgust', 'irrit', 'anxious', 'anxiety', 'helpless',\n",
      "                     'worry', 'doubt', 'shame', 'bored', 'despar', 'hurt']\n",
      "\n",
      "\n",
      "    #PROCESSING PRE-DEFINED POSITIVE AND NEGATIVE WORDBANKS\n",
      "    pos_bank = 'https://raw.githubusercontent.com/c-trl/nlp-with-xanga-entries/master/positive_wordbank.txt'\n",
      "    pos_words_text = requests.get(pos_bank).text\n",
      "    pos_soup = bs(pos_words_text) #converts string variable to unicode\n",
      "    souped_pos_words = pos_soup.get_text() #stores unicode text in variable 'souped_text'\n",
      "    encoded_pos_words = souped_pos_words.encode('utf-8') #converts unicode text to utf-8\n",
      "    positive_words = nltk.word_tokenize(encoded_pos_words) #tokenizes unicode text, separating each word and turning it into an item in list 'tokens'\n",
      "\n",
      "    neg_bank = 'https://raw.githubusercontent.com/c-trl/nlp-with-xanga-entries/master/negative_wordbank.txt'    \n",
      "    neg_words_text = requests.get(neg_bank).text\n",
      "    neg_soup = bs(neg_words_text) #converts string variable to unicode\n",
      "    souped_neg_words = neg_soup.get_text() #stores unicode text in variable 'souped_text'\n",
      "    encoded_neg_words = souped_neg_words.encode('utf-8') #converts unicode text to utf-8\n",
      "    negative_words = nltk.word_tokenize(encoded_neg_words)\n",
      "\n",
      "    df.ix[df.Word.isin(positive_emotions), 'Polarity'] = 1\n",
      "    df.ix[df.Word.isin(negative_emotions), 'Polarity'] = -1\n",
      "    df.ix[df.Word.isin(positive_words), 'Polarity'] = 1\n",
      "    df.ix[df.Word.isin(negative_words), 'Polarity'] = -1\n",
      "\n",
      "    df['Adjusted Sentiment'] = df['Polarity'] * df['Frequency-Weight']\n",
      "    df['Relative Weight'] = df['Word Count'] * df['Adjusted Sentiment']\n",
      "\n",
      "    pos = sum(df[[x > 0 for x in df['Relative Weight']]].sort('Relative Weight', ascending=False)['Relative Weight'])\n",
      "    neg = sum(df[[x < 0 for x in df['Relative Weight']]].sort('Relative Weight', ascending=False)['Relative Weight'])\n",
      "    agg = abs(pos) + abs(neg)\n",
      "    bal = pos + neg\n",
      "    per = bal / agg\n",
      "   \n",
      "    print 'Aggregate text sentiment:', str(per)+'% ---', 'Episode',str(url[-3:])"
     ],
     "language": "python",
     "metadata": {},
     "outputs": [],
     "prompt_number": 5
    },
    {
     "cell_type": "code",
     "collapsed": false,
     "input": [
      "for url in urls:\n",
      "    lite_sentiment_estimator(url)"
     ],
     "language": "python",
     "metadata": {},
     "outputs": [
      {
       "output_type": "stream",
       "stream": "stdout",
       "text": [
        "Aggregate text sentiment: -0.269736842105% --- Episode 101\n",
        "Aggregate text sentiment:"
       ]
      },
      {
       "output_type": "stream",
       "stream": "stdout",
       "text": [
        " -0.223443223443% --- Episode 102\n",
        "Aggregate text sentiment:"
       ]
      },
      {
       "output_type": "stream",
       "stream": "stdout",
       "text": [
        " -0.178893178893% --- Episode 103\n",
        "Aggregate text sentiment:"
       ]
      },
      {
       "output_type": "stream",
       "stream": "stdout",
       "text": [
        " -0.13249651325% --- Episode 104\n",
        "Aggregate text sentiment:"
       ]
      },
      {
       "output_type": "stream",
       "stream": "stdout",
       "text": [
        " -0.0864946889226% --- Episode 105\n",
        "Aggregate text sentiment:"
       ]
      },
      {
       "output_type": "stream",
       "stream": "stdout",
       "text": [
        " -0.129814550642% --- Episode 106\n",
        "Aggregate text sentiment:"
       ]
      },
      {
       "output_type": "stream",
       "stream": "stdout",
       "text": [
        " -0.101449275362% --- Episode 107\n",
        "Aggregate text sentiment:"
       ]
      },
      {
       "output_type": "stream",
       "stream": "stdout",
       "text": [
        " -0.127035830619% --- Episode 108\n",
        "Aggregate text sentiment:"
       ]
      },
      {
       "output_type": "stream",
       "stream": "stdout",
       "text": [
        " -0.148514851485% --- Episode 109\n",
        "Aggregate text sentiment:"
       ]
      },
      {
       "output_type": "stream",
       "stream": "stdout",
       "text": [
        " -0.262905162065% --- Episode 110\n",
        "Aggregate text sentiment:"
       ]
      },
      {
       "output_type": "stream",
       "stream": "stdout",
       "text": [
        " -0.347222222222% --- Episode 111\n",
        "Aggregate text sentiment:"
       ]
      },
      {
       "output_type": "stream",
       "stream": "stdout",
       "text": [
        " -0.270704573548% --- Episode 112\n",
        "Aggregate text sentiment:"
       ]
      },
      {
       "output_type": "stream",
       "stream": "stdout",
       "text": [
        " -0.384885764499% --- Episode 113\n",
        "Aggregate text sentiment:"
       ]
      },
      {
       "output_type": "stream",
       "stream": "stdout",
       "text": [
        " -0.125313283208% --- Episode 114\n",
        "Aggregate text sentiment:"
       ]
      },
      {
       "output_type": "stream",
       "stream": "stdout",
       "text": [
        " -0.173216885007% --- Episode 115\n",
        "Aggregate text sentiment:"
       ]
      },
      {
       "output_type": "stream",
       "stream": "stdout",
       "text": [
        " -0.18041958042% --- Episode 116\n",
        "Aggregate text sentiment:"
       ]
      },
      {
       "output_type": "stream",
       "stream": "stdout",
       "text": [
        " -0.137142857143% --- Episode 117\n",
        "Aggregate text sentiment:"
       ]
      },
      {
       "output_type": "stream",
       "stream": "stdout",
       "text": [
        " -0.0945558739255% --- Episode 118\n",
        "Aggregate text sentiment:"
       ]
      },
      {
       "output_type": "stream",
       "stream": "stdout",
       "text": [
        " -0.109570041609% --- Episode 119\n",
        "Aggregate text sentiment:"
       ]
      },
      {
       "output_type": "stream",
       "stream": "stdout",
       "text": [
        " -0.321196358908% --- Episode 120\n",
        "Aggregate text sentiment:"
       ]
      },
      {
       "output_type": "stream",
       "stream": "stdout",
       "text": [
        " -0.29451287794% --- Episode 201\n",
        "Aggregate text sentiment:"
       ]
      },
      {
       "output_type": "stream",
       "stream": "stdout",
       "text": [
        " -0.205846528624% --- Episode 202\n",
        "Aggregate text sentiment:"
       ]
      },
      {
       "output_type": "stream",
       "stream": "stdout",
       "text": [
        " -0.19733924612% --- Episode 203\n",
        "Aggregate text sentiment:"
       ]
      },
      {
       "output_type": "stream",
       "stream": "stdout",
       "text": [
        " -0.374449339207% --- Episode 204\n",
        "Aggregate text sentiment:"
       ]
      },
      {
       "output_type": "stream",
       "stream": "stdout",
       "text": [
        " -0.194614443084% --- Episode 205\n",
        "Aggregate text sentiment:"
       ]
      },
      {
       "output_type": "stream",
       "stream": "stdout",
       "text": [
        " -0.115423901941% --- Episode 206\n",
        "Aggregate text sentiment:"
       ]
      },
      {
       "output_type": "stream",
       "stream": "stdout",
       "text": [
        " -0.266149870801% --- Episode 207\n",
        "Aggregate text sentiment:"
       ]
      },
      {
       "output_type": "stream",
       "stream": "stdout",
       "text": [
        " -0.166051660517% --- Episode 208\n",
        "Aggregate text sentiment:"
       ]
      },
      {
       "output_type": "stream",
       "stream": "stdout",
       "text": [
        " -0.127937336815% --- Episode 209\n",
        "Aggregate text sentiment:"
       ]
      },
      {
       "output_type": "stream",
       "stream": "stdout",
       "text": [
        " -0.162416107383% --- Episode 210\n",
        "Aggregate text sentiment:"
       ]
      },
      {
       "output_type": "stream",
       "stream": "stdout",
       "text": [
        " -0.202702702703% --- Episode 211\n",
        "Aggregate text sentiment:"
       ]
      },
      {
       "output_type": "stream",
       "stream": "stdout",
       "text": [
        " -0.150550795594% --- Episode 212\n",
        "Aggregate text sentiment:"
       ]
      },
      {
       "output_type": "stream",
       "stream": "stdout",
       "text": [
        " -0.295454545455% --- Episode 213\n",
        "Aggregate text sentiment:"
       ]
      },
      {
       "output_type": "stream",
       "stream": "stdout",
       "text": [
        " -0.08038585209% --- Episode 214\n",
        "Aggregate text sentiment:"
       ]
      },
      {
       "output_type": "stream",
       "stream": "stdout",
       "text": [
        " -0.0402010050251% --- Episode 215\n",
        "Aggregate text sentiment:"
       ]
      },
      {
       "output_type": "stream",
       "stream": "stdout",
       "text": [
        " -0.420989143546% --- Episode 216\n",
        "Aggregate text sentiment:"
       ]
      },
      {
       "output_type": "stream",
       "stream": "stdout",
       "text": [
        " -0.384615384615% --- Episode 217\n",
        "Aggregate text sentiment:"
       ]
      },
      {
       "output_type": "stream",
       "stream": "stdout",
       "text": [
        " -0.156732891832% --- Episode 218\n",
        "Aggregate text sentiment:"
       ]
      },
      {
       "output_type": "stream",
       "stream": "stdout",
       "text": [
        " -0.0432946145723% --- Episode 219\n",
        "Aggregate text sentiment:"
       ]
      },
      {
       "output_type": "stream",
       "stream": "stdout",
       "text": [
        " -0.171945701357% --- Episode 220\n",
        "Aggregate text sentiment:"
       ]
      },
      {
       "output_type": "stream",
       "stream": "stdout",
       "text": [
        " -0.240506329114% --- Episode 301\n",
        "Aggregate text sentiment:"
       ]
      },
      {
       "output_type": "stream",
       "stream": "stdout",
       "text": [
        " -0.155015197568% --- Episode 302\n",
        "Aggregate text sentiment:"
       ]
      },
      {
       "output_type": "stream",
       "stream": "stdout",
       "text": [
        " -0.315573770492% --- Episode 303\n",
        "Aggregate text sentiment:"
       ]
      },
      {
       "output_type": "stream",
       "stream": "stdout",
       "text": [
        " -0.123882503193% --- Episode 304\n",
        "Aggregate text sentiment:"
       ]
      },
      {
       "output_type": "stream",
       "stream": "stdout",
       "text": [
        " -0.168704156479% --- Episode 305\n",
        "Aggregate text sentiment:"
       ]
      },
      {
       "output_type": "stream",
       "stream": "stdout",
       "text": [
        " -0.010101010101% --- Episode 306\n",
        "Aggregate text sentiment:"
       ]
      },
      {
       "output_type": "stream",
       "stream": "stdout",
       "text": [
        " -0.241379310345% --- Episode 307\n",
        "Aggregate text sentiment:"
       ]
      },
      {
       "output_type": "stream",
       "stream": "stdout",
       "text": [
        " -0.25037037037% --- Episode 308\n",
        "Aggregate text sentiment:"
       ]
      },
      {
       "output_type": "stream",
       "stream": "stdout",
       "text": [
        " -0.269121813031% --- Episode 309\n",
        "Aggregate text sentiment:"
       ]
      },
      {
       "output_type": "stream",
       "stream": "stdout",
       "text": [
        " -0.387045813586% --- Episode 310\n",
        "Aggregate text sentiment:"
       ]
      },
      {
       "output_type": "stream",
       "stream": "stdout",
       "text": [
        " -0.151515151515% --- Episode 311\n",
        "Aggregate text sentiment:"
       ]
      },
      {
       "output_type": "stream",
       "stream": "stdout",
       "text": [
        " -0.288732394366% --- Episode 312\n",
        "Aggregate text sentiment:"
       ]
      },
      {
       "output_type": "stream",
       "stream": "stdout",
       "text": [
        " -0.24% --- Episode 313\n",
        "Aggregate text sentiment:"
       ]
      },
      {
       "output_type": "stream",
       "stream": "stdout",
       "text": [
        " -0.407894736842% --- Episode 314\n",
        "Aggregate text sentiment:"
       ]
      },
      {
       "output_type": "stream",
       "stream": "stdout",
       "text": [
        " -0.383512544803% --- Episode 315\n",
        "Aggregate text sentiment:"
       ]
      },
      {
       "output_type": "stream",
       "stream": "stdout",
       "text": [
        " -0.35453100159% --- Episode 316\n",
        "Aggregate text sentiment:"
       ]
      },
      {
       "output_type": "stream",
       "stream": "stdout",
       "text": [
        " -0.230046948357% --- Episode 317\n",
        "Aggregate text sentiment:"
       ]
      },
      {
       "output_type": "stream",
       "stream": "stdout",
       "text": [
        " -0.16290726817% --- Episode 318\n",
        "Aggregate text sentiment:"
       ]
      },
      {
       "output_type": "stream",
       "stream": "stdout",
       "text": [
        " -0.0648967551622% --- Episode 319\n",
        "Aggregate text sentiment:"
       ]
      },
      {
       "output_type": "stream",
       "stream": "stdout",
       "text": [
        " -0.395424836601% --- Episode 320\n",
        "Aggregate text sentiment:"
       ]
      },
      {
       "output_type": "stream",
       "stream": "stdout",
       "text": [
        " -0.207715133531% --- Episode 321\n"
       ]
      }
     ],
     "prompt_number": 6
    },
    {
     "cell_type": "markdown",
     "metadata": {},
     "source": [
      "---"
     ]
    },
    {
     "cell_type": "markdown",
     "metadata": {},
     "source": [
      "#Organizing dataframes\n",
      "We can now view the episodes in order from most negative to least negative"
     ]
    },
    {
     "cell_type": "markdown",
     "metadata": {},
     "source": [
      "###Bringing in a csv file containing series-level sentiment balance data"
     ]
    },
    {
     "cell_type": "code",
     "collapsed": false,
     "input": [
      "ref = pd.read_csv('ATLA Sentiment Balance Results.csv')"
     ],
     "language": "python",
     "metadata": {},
     "outputs": [],
     "prompt_number": 7
    },
    {
     "cell_type": "markdown",
     "metadata": {},
     "source": [
      "###Inserting episode titles using data from another csv file"
     ]
    },
    {
     "cell_type": "code",
     "collapsed": false,
     "input": [
      "reader = pd.read_csv('Avatar Numbers.csv')\n",
      "ep_list = reader[['Series', 'Episode', 'Title', 'Viewership (Mil)']]"
     ],
     "language": "python",
     "metadata": {},
     "outputs": [],
     "prompt_number": 8
    },
    {
     "cell_type": "code",
     "collapsed": false,
     "input": [
      "df = ref.join(ep_list['Title'], lsuffix='Episode')\n",
      "df = df.join(ep_list['Viewership (Mil)'], lsuffix='Episode')"
     ],
     "language": "python",
     "metadata": {},
     "outputs": [],
     "prompt_number": 9
    },
    {
     "cell_type": "markdown",
     "metadata": {},
     "source": [
      "###Converting Viewership numbers from string to integers"
     ]
    },
    {
     "cell_type": "code",
     "collapsed": false,
     "input": [
      "df['Viewership (Mil)'] = [float(x) for x in df['Viewership (Mil)']]"
     ],
     "language": "python",
     "metadata": {},
     "outputs": [],
     "prompt_number": 10
    },
    {
     "cell_type": "markdown",
     "metadata": {},
     "source": [
      "###Converting Episode data to string data"
     ]
    },
    {
     "cell_type": "code",
     "collapsed": false,
     "input": [
      "df['Episode'] = [str(x) for x in df['Episode']]"
     ],
     "language": "python",
     "metadata": {},
     "outputs": [],
     "prompt_number": 11
    },
    {
     "cell_type": "markdown",
     "metadata": {},
     "source": [
      "###Re-organizing columns"
     ]
    },
    {
     "cell_type": "code",
     "collapsed": false,
     "input": [
      "df = df[['Episode', 'Title', 'Total Non-Neutral Weight', 'Sentiment Balance', 'Balance Percentage', 'Viewership (Mil)']]\n",
      "df.columns = ['Episode Number', 'Episode', 'Total Non-Neutral Weight', 'Sentiment Balance', 'Balance Percentage', 'Viewership (Mil)']"
     ],
     "language": "python",
     "metadata": {},
     "outputs": [],
     "prompt_number": 12
    },
    {
     "cell_type": "markdown",
     "metadata": {},
     "source": [
      "###Re-sorting data"
     ]
    },
    {
     "cell_type": "code",
     "collapsed": false,
     "input": [
      "df.sort(columns='Balance Percentage', ascending=False).head(20) #Least negative episodes\n",
      "#df.sort(columns='Balance Percentage').head() #Most negative episodes"
     ],
     "language": "python",
     "metadata": {},
     "outputs": [
      {
       "html": [
        "<div style=\"max-height:1000px;max-width:1500px;overflow:auto;\">\n",
        "<table border=\"1\" class=\"dataframe\">\n",
        "  <thead>\n",
        "    <tr style=\"text-align: right;\">\n",
        "      <th></th>\n",
        "      <th>Episode Number</th>\n",
        "      <th>Episode</th>\n",
        "      <th>Total Non-Neutral Weight</th>\n",
        "      <th>Sentiment Balance</th>\n",
        "      <th>Balance Percentage</th>\n",
        "      <th>Viewership (Mil)</th>\n",
        "    </tr>\n",
        "  </thead>\n",
        "  <tbody>\n",
        "    <tr>\n",
        "      <th>45</th>\n",
        "      <td> 306</td>\n",
        "      <td>                The Avatar and the Firelord</td>\n",
        "      <td> 396.0</td>\n",
        "      <td> -4.0</td>\n",
        "      <td>-0.010</td>\n",
        "      <td> 3.20</td>\n",
        "    </tr>\n",
        "    <tr>\n",
        "      <th>34</th>\n",
        "      <td> 215</td>\n",
        "      <td>                        Tales of Ba Sing Se</td>\n",
        "      <td> 398.0</td>\n",
        "      <td>-16.0</td>\n",
        "      <td>-0.040</td>\n",
        "      <td> 3.12</td>\n",
        "    </tr>\n",
        "    <tr>\n",
        "      <th>38</th>\n",
        "      <td> 219</td>\n",
        "      <td>                                   The Guru</td>\n",
        "      <td> 473.5</td>\n",
        "      <td>-20.5</td>\n",
        "      <td>-0.043</td>\n",
        "      <td> 4.40</td>\n",
        "    </tr>\n",
        "    <tr>\n",
        "      <th>58</th>\n",
        "      <td> 319</td>\n",
        "      <td>     Sozin's Comet, Part 2: The Old Masters</td>\n",
        "      <td> 339.0</td>\n",
        "      <td>-22.0</td>\n",
        "      <td>-0.065</td>\n",
        "      <td> 5.59</td>\n",
        "    </tr>\n",
        "    <tr>\n",
        "      <th>33</th>\n",
        "      <td> 214</td>\n",
        "      <td>                  City of Walls and Secrets</td>\n",
        "      <td> 311.0</td>\n",
        "      <td>-25.0</td>\n",
        "      <td>-0.080</td>\n",
        "      <td> 3.27</td>\n",
        "    </tr>\n",
        "    <tr>\n",
        "      <th>4 </th>\n",
        "      <td> 105</td>\n",
        "      <td>                         The King of Omashu</td>\n",
        "      <td> 329.5</td>\n",
        "      <td>-28.5</td>\n",
        "      <td>-0.086</td>\n",
        "      <td> 3.54</td>\n",
        "    </tr>\n",
        "    <tr>\n",
        "      <th>17</th>\n",
        "      <td> 118</td>\n",
        "      <td>                    The Waterbending Master</td>\n",
        "      <td> 349.0</td>\n",
        "      <td>-33.0</td>\n",
        "      <td>-0.095</td>\n",
        "      <td> 3.50</td>\n",
        "    </tr>\n",
        "    <tr>\n",
        "      <th>6 </th>\n",
        "      <td> 107</td>\n",
        "      <td> The Spirit World (Winter Solstice, Part 1)</td>\n",
        "      <td> 310.5</td>\n",
        "      <td>-31.5</td>\n",
        "      <td>-0.101</td>\n",
        "      <td> 3.29</td>\n",
        "    </tr>\n",
        "    <tr>\n",
        "      <th>18</th>\n",
        "      <td> 119</td>\n",
        "      <td>             The Siege of the North, Part 1</td>\n",
        "      <td> 360.5</td>\n",
        "      <td>-39.5</td>\n",
        "      <td>-0.110</td>\n",
        "      <td> 3.42</td>\n",
        "    </tr>\n",
        "    <tr>\n",
        "      <th>25</th>\n",
        "      <td> 206</td>\n",
        "      <td>                           The Blind Bandit</td>\n",
        "      <td> 489.5</td>\n",
        "      <td>-56.5</td>\n",
        "      <td>-0.115</td>\n",
        "      <td> 3.33</td>\n",
        "    </tr>\n",
        "    <tr>\n",
        "      <th>43</th>\n",
        "      <td> 304</td>\n",
        "      <td>                             Sokka's Master</td>\n",
        "      <td> 391.5</td>\n",
        "      <td>-48.5</td>\n",
        "      <td>-0.124</td>\n",
        "      <td> 3.22</td>\n",
        "    </tr>\n",
        "    <tr>\n",
        "      <th>13</th>\n",
        "      <td> 114</td>\n",
        "      <td>                          The Fortuneteller</td>\n",
        "      <td> 399.0</td>\n",
        "      <td>-50.0</td>\n",
        "      <td>-0.125</td>\n",
        "      <td> 2.05</td>\n",
        "    </tr>\n",
        "    <tr>\n",
        "      <th>7 </th>\n",
        "      <td> 108</td>\n",
        "      <td>      Avatar Roku (Winter Solstice, Part 2)</td>\n",
        "      <td> 307.0</td>\n",
        "      <td>-39.0</td>\n",
        "      <td>-0.127</td>\n",
        "      <td> 3.12</td>\n",
        "    </tr>\n",
        "    <tr>\n",
        "      <th>28</th>\n",
        "      <td> 209</td>\n",
        "      <td>                                Bitter Work</td>\n",
        "      <td> 383.0</td>\n",
        "      <td>-49.0</td>\n",
        "      <td>-0.128</td>\n",
        "      <td> 3.26</td>\n",
        "    </tr>\n",
        "    <tr>\n",
        "      <th>5 </th>\n",
        "      <td> 106</td>\n",
        "      <td>                                 Imprisoned</td>\n",
        "      <td> 350.5</td>\n",
        "      <td>-45.5</td>\n",
        "      <td>-0.130</td>\n",
        "      <td> 3.38</td>\n",
        "    </tr>\n",
        "    <tr>\n",
        "      <th>3 </th>\n",
        "      <td> 104</td>\n",
        "      <td>                     The Warriors of Kyoshi</td>\n",
        "      <td> 358.5</td>\n",
        "      <td>-47.5</td>\n",
        "      <td>-0.132</td>\n",
        "      <td> 3.47</td>\n",
        "    </tr>\n",
        "    <tr>\n",
        "      <th>16</th>\n",
        "      <td> 117</td>\n",
        "      <td>                    The Northern Air Temple</td>\n",
        "      <td> 350.0</td>\n",
        "      <td>-48.0</td>\n",
        "      <td>-0.137</td>\n",
        "      <td> 1.68</td>\n",
        "    </tr>\n",
        "    <tr>\n",
        "      <th>8 </th>\n",
        "      <td> 109</td>\n",
        "      <td>                    The Waterbending Scroll</td>\n",
        "      <td> 404.0</td>\n",
        "      <td>-60.0</td>\n",
        "      <td>-0.149</td>\n",
        "      <td> 3.15</td>\n",
        "    </tr>\n",
        "    <tr>\n",
        "      <th>31</th>\n",
        "      <td> 212</td>\n",
        "      <td>                         The Serpent's Pass</td>\n",
        "      <td> 408.5</td>\n",
        "      <td>-61.5</td>\n",
        "      <td>-0.151</td>\n",
        "      <td> 4.10</td>\n",
        "    </tr>\n",
        "    <tr>\n",
        "      <th>50</th>\n",
        "      <td> 311</td>\n",
        "      <td>  The Day of Black Sun, Part 2: The Eclipse</td>\n",
        "      <td> 330.0</td>\n",
        "      <td>-50.0</td>\n",
        "      <td>-0.152</td>\n",
        "      <td> 3.77</td>\n",
        "    </tr>\n",
        "  </tbody>\n",
        "</table>\n",
        "</div>"
       ],
       "metadata": {},
       "output_type": "pyout",
       "prompt_number": 78,
       "text": [
        "   Episode Number                                     Episode  \\\n",
        "45            306                 The Avatar and the Firelord   \n",
        "34            215                         Tales of Ba Sing Se   \n",
        "38            219                                    The Guru   \n",
        "58            319      Sozin's Comet, Part 2: The Old Masters   \n",
        "33            214                   City of Walls and Secrets   \n",
        "4             105                          The King of Omashu   \n",
        "17            118                     The Waterbending Master   \n",
        "6             107  The Spirit World (Winter Solstice, Part 1)   \n",
        "18            119              The Siege of the North, Part 1   \n",
        "25            206                            The Blind Bandit   \n",
        "43            304                              Sokka's Master   \n",
        "13            114                           The Fortuneteller   \n",
        "7             108       Avatar Roku (Winter Solstice, Part 2)   \n",
        "28            209                                 Bitter Work   \n",
        "5             106                                  Imprisoned   \n",
        "3             104                      The Warriors of Kyoshi   \n",
        "16            117                     The Northern Air Temple   \n",
        "8             109                     The Waterbending Scroll   \n",
        "31            212                          The Serpent's Pass   \n",
        "50            311   The Day of Black Sun, Part 2: The Eclipse   \n",
        "\n",
        "    Total Non-Neutral Weight  Sentiment Balance  Balance Percentage  \\\n",
        "45                     396.0               -4.0              -0.010   \n",
        "34                     398.0              -16.0              -0.040   \n",
        "38                     473.5              -20.5              -0.043   \n",
        "58                     339.0              -22.0              -0.065   \n",
        "33                     311.0              -25.0              -0.080   \n",
        "4                      329.5              -28.5              -0.086   \n",
        "17                     349.0              -33.0              -0.095   \n",
        "6                      310.5              -31.5              -0.101   \n",
        "18                     360.5              -39.5              -0.110   \n",
        "25                     489.5              -56.5              -0.115   \n",
        "43                     391.5              -48.5              -0.124   \n",
        "13                     399.0              -50.0              -0.125   \n",
        "7                      307.0              -39.0              -0.127   \n",
        "28                     383.0              -49.0              -0.128   \n",
        "5                      350.5              -45.5              -0.130   \n",
        "3                      358.5              -47.5              -0.132   \n",
        "16                     350.0              -48.0              -0.137   \n",
        "8                      404.0              -60.0              -0.149   \n",
        "31                     408.5              -61.5              -0.151   \n",
        "50                     330.0              -50.0              -0.152   \n",
        "\n",
        "    Viewership (Mil)  \n",
        "45              3.20  \n",
        "34              3.12  \n",
        "38              4.40  \n",
        "58              5.59  \n",
        "33              3.27  \n",
        "4               3.54  \n",
        "17              3.50  \n",
        "6               3.29  \n",
        "18              3.42  \n",
        "25              3.33  \n",
        "43              3.22  \n",
        "13              2.05  \n",
        "7               3.12  \n",
        "28              3.26  \n",
        "5               3.38  \n",
        "3               3.47  \n",
        "16              1.68  \n",
        "8               3.15  \n",
        "31              4.10  \n",
        "50              3.77  "
       ]
      }
     ],
     "prompt_number": 78
    },
    {
     "cell_type": "markdown",
     "metadata": {},
     "source": [
      "---"
     ]
    },
    {
     "cell_type": "markdown",
     "metadata": {},
     "source": [
      "#Diving into episode-level sentiment data\n",
      "First, to figure out how to decide which episodes to look deeper into:"
     ]
    },
    {
     "cell_type": "code",
     "collapsed": false,
     "input": [
      "least_negative = ref.sort(columns='Sentiment Balance', ascending=False)['Episode'].head(10)"
     ],
     "language": "python",
     "metadata": {},
     "outputs": [],
     "prompt_number": 14
    },
    {
     "cell_type": "markdown",
     "metadata": {},
     "source": [
      "For further reference, a quick function will be created and used to return a quick-view list of any episodes specified"
     ]
    },
    {
     "cell_type": "code",
     "collapsed": false,
     "input": [
      "def get_title(episode):\n",
      "    print ep_list[ep_list['Episode'].isin([int(episode)])]"
     ],
     "language": "python",
     "metadata": {},
     "outputs": [],
     "prompt_number": 15
    },
    {
     "cell_type": "code",
     "collapsed": false,
     "input": [
      "for episode in least_negative:\n",
      "    get_title(episode)"
     ],
     "language": "python",
     "metadata": {},
     "outputs": [
      {
       "output_type": "stream",
       "stream": "stdout",
       "text": [
        "   Series  Episode                        Title  Viewership (Mil)\n",
        "45   ATLA      306  The Avatar and the Firelord               3.2\n",
        "   Series  Episode                Title  Viewership (Mil)\n",
        "34   ATLA      215  Tales of Ba Sing Se              3.12\n",
        "   Series  Episode     Title  Viewership (Mil)\n",
        "38   ATLA      219  The Guru               4.4\n",
        "   Series  Episode                                   Title  Viewership (Mil)\n",
        "58   ATLA      319  Sozin's Comet, Part 2: The Old Masters              5.59\n",
        "   Series  Episode                      Title  Viewership (Mil)\n",
        "33   ATLA      214  City of Walls and Secrets              3.27\n",
        "  Series  Episode               Title  Viewership (Mil)\n",
        "4   ATLA      105  The King of Omashu              3.54\n",
        "  Series  Episode                                       Title  \\\n",
        "6   ATLA      107  The Spirit World (Winter Solstice, Part 1)   \n",
        "\n",
        "   Viewership (Mil)  \n",
        "6              3.29  \n",
        "   Series  Episode                    Title  Viewership (Mil)\n",
        "17   ATLA      118  The Waterbending Master               3.5"
       ]
      },
      {
       "output_type": "stream",
       "stream": "stdout",
       "text": [
        "\n",
        "  Series  Episode                                  Title  Viewership (Mil)\n",
        "7   ATLA      108  Avatar Roku (Winter Solstice, Part 2)              3.12\n",
        "   Series  Episode                           Title  Viewership (Mil)\n",
        "18   ATLA      119  The Siege of the North, Part 1              3.42\n"
       ]
      }
     ],
     "prompt_number": 16
    },
    {
     "cell_type": "markdown",
     "metadata": {},
     "source": [
      "Now that we have the means to select which episodes to dive into, let's start with some of the least negative episodes"
     ]
    },
    {
     "cell_type": "code",
     "collapsed": false,
     "input": [
      "get_title(319)"
     ],
     "language": "python",
     "metadata": {},
     "outputs": [
      {
       "output_type": "stream",
       "stream": "stdout",
       "text": [
        "   Series  Episode                                   Title  Viewership (Mil)\n",
        "58   ATLA      319  Sozin's Comet, Part 2: The Old Masters              5.59\n"
       ]
      }
     ],
     "prompt_number": 17
    },
    {
     "cell_type": "markdown",
     "metadata": {},
     "source": [
      "###Define episode, sort order for ep_viewer:"
     ]
    },
    {
     "cell_type": "code",
     "collapsed": false,
     "input": [
      "ep = 319\n",
      "sort = False"
     ],
     "language": "python",
     "metadata": {},
     "outputs": [],
     "prompt_number": 18
    },
    {
     "cell_type": "code",
     "collapsed": false,
     "input": [
      "ep_viewer = pd.read_csv(str(ep)+'.csv').drop('Unnamed: 0', axis=1).sort(columns='Relative Weight', ascending=sort)\n",
      "    #viewer = viewer.drop('Unnamed: 0', axis=1) \n",
      "    #viewer = viewer.sort(columns='Relative Weight', ascending=False)"
     ],
     "language": "python",
     "metadata": {},
     "outputs": [],
     "prompt_number": 19
    },
    {
     "cell_type": "code",
     "collapsed": false,
     "input": [
      "ep_viewer.head()"
     ],
     "language": "python",
     "metadata": {},
     "outputs": [
      {
       "html": [
        "<div style=\"max-height:1000px;max-width:1500px;overflow:auto;\">\n",
        "<table border=\"1\" class=\"dataframe\">\n",
        "  <thead>\n",
        "    <tr style=\"text-align: right;\">\n",
        "      <th></th>\n",
        "      <th>Word</th>\n",
        "      <th>Word Count</th>\n",
        "      <th>Frequency-Weight</th>\n",
        "      <th>Share of Words</th>\n",
        "      <th>Polarity</th>\n",
        "      <th>Adjusted Sentiment</th>\n",
        "      <th>Relative Weight</th>\n",
        "      <th>Episode</th>\n",
        "    </tr>\n",
        "  </thead>\n",
        "  <tbody>\n",
        "    <tr>\n",
        "      <th>689 </th>\n",
        "      <td>    like</td>\n",
        "      <td>  8</td>\n",
        "      <td> 1.0</td>\n",
        "      <td> 0.001926</td>\n",
        "      <td> 1</td>\n",
        "      <td> 1.0</td>\n",
        "      <td> 8.0</td>\n",
        "      <td> 319</td>\n",
        "    </tr>\n",
        "    <tr>\n",
        "      <th>988 </th>\n",
        "      <td>  smiles</td>\n",
        "      <td>  7</td>\n",
        "      <td> 1.0</td>\n",
        "      <td> 0.001686</td>\n",
        "      <td> 1</td>\n",
        "      <td> 1.0</td>\n",
        "      <td> 7.0</td>\n",
        "      <td> 319</td>\n",
        "    </tr>\n",
        "    <tr>\n",
        "      <th>893 </th>\n",
        "      <td>   right</td>\n",
        "      <td> 13</td>\n",
        "      <td> 0.5</td>\n",
        "      <td> 0.003130</td>\n",
        "      <td> 1</td>\n",
        "      <td> 0.5</td>\n",
        "      <td> 6.5</td>\n",
        "      <td> 319</td>\n",
        "    </tr>\n",
        "    <tr>\n",
        "      <th>989 </th>\n",
        "      <td> smiling</td>\n",
        "      <td>  5</td>\n",
        "      <td> 1.0</td>\n",
        "      <td> 0.001204</td>\n",
        "      <td> 1</td>\n",
        "      <td> 1.0</td>\n",
        "      <td> 5.0</td>\n",
        "      <td> 319</td>\n",
        "    </tr>\n",
        "    <tr>\n",
        "      <th>1108</th>\n",
        "      <td>     top</td>\n",
        "      <td>  5</td>\n",
        "      <td> 1.0</td>\n",
        "      <td> 0.001204</td>\n",
        "      <td> 1</td>\n",
        "      <td> 1.0</td>\n",
        "      <td> 5.0</td>\n",
        "      <td> 319</td>\n",
        "    </tr>\n",
        "  </tbody>\n",
        "</table>\n",
        "</div>"
       ],
       "metadata": {},
       "output_type": "pyout",
       "prompt_number": 20,
       "text": [
        "         Word  Word Count  Frequency-Weight  Share of Words  Polarity  \\\n",
        "689      like           8               1.0        0.001926         1   \n",
        "988    smiles           7               1.0        0.001686         1   \n",
        "893     right          13               0.5        0.003130         1   \n",
        "989   smiling           5               1.0        0.001204         1   \n",
        "1108      top           5               1.0        0.001204         1   \n",
        "\n",
        "      Adjusted Sentiment  Relative Weight  Episode  \n",
        "689                  1.0              8.0      319  \n",
        "988                  1.0              7.0      319  \n",
        "893                  0.5              6.5      319  \n",
        "989                  1.0              5.0      319  \n",
        "1108                 1.0              5.0      319  "
       ]
      }
     ],
     "prompt_number": 20
    },
    {
     "cell_type": "markdown",
     "metadata": {},
     "source": [
      "---"
     ]
    },
    {
     "cell_type": "markdown",
     "metadata": {},
     "source": [
      "###Review"
     ]
    },
    {
     "cell_type": "markdown",
     "metadata": {},
     "source": [
      "The top 3-4 episodes in each list seem accurate, however as we attempt to estimate beyond the 5th most positive/negative episodes, sentiment begins to behave ambiguously.  Perhaps it is fan-bias, but The Desert shouldn't be a relatively neutral episode.  \n",
      "\n",
      "As it stands, the estimator processes dialogue as well as stage directions included in each episode.  Perhaps these directions (which include a large number of adjectives and adverbs' are skewing the estimator?  Otherwise, the wordbanks need to be refined to better fit the content in the series."
     ]
    },
    {
     "cell_type": "code",
     "collapsed": false,
     "input": [
      "df"
     ],
     "language": "python",
     "metadata": {},
     "outputs": [
      {
       "html": [
        "<div style=\"max-height:1000px;max-width:1500px;overflow:auto;\">\n",
        "<table border=\"1\" class=\"dataframe\">\n",
        "  <thead>\n",
        "    <tr style=\"text-align: right;\">\n",
        "      <th></th>\n",
        "      <th>Episode Number</th>\n",
        "      <th>Episode</th>\n",
        "      <th>Total Non-Neutral Weight</th>\n",
        "      <th>Sentiment Balance</th>\n",
        "      <th>Balance Percentage</th>\n",
        "      <th>Viewership (Mil)</th>\n",
        "    </tr>\n",
        "  </thead>\n",
        "  <tbody>\n",
        "    <tr>\n",
        "      <th>0 </th>\n",
        "      <td> 101</td>\n",
        "      <td>                     The Boy in the Iceberg</td>\n",
        "      <td> 304.0</td>\n",
        "      <td> -82.0</td>\n",
        "      <td>-0.270</td>\n",
        "      <td> 3.47</td>\n",
        "    </tr>\n",
        "    <tr>\n",
        "      <th>1 </th>\n",
        "      <td> 102</td>\n",
        "      <td>                         The Avatar Returns</td>\n",
        "      <td> 273.0</td>\n",
        "      <td> -61.0</td>\n",
        "      <td>-0.223</td>\n",
        "      <td> 3.47</td>\n",
        "    </tr>\n",
        "    <tr>\n",
        "      <th>2 </th>\n",
        "      <td> 103</td>\n",
        "      <td>                    The Southern Air Temple</td>\n",
        "      <td> 388.5</td>\n",
        "      <td> -69.5</td>\n",
        "      <td>-0.179</td>\n",
        "      <td> 3.41</td>\n",
        "    </tr>\n",
        "    <tr>\n",
        "      <th>3 </th>\n",
        "      <td> 104</td>\n",
        "      <td>                     The Warriors of Kyoshi</td>\n",
        "      <td> 358.5</td>\n",
        "      <td> -47.5</td>\n",
        "      <td>-0.132</td>\n",
        "      <td> 3.47</td>\n",
        "    </tr>\n",
        "    <tr>\n",
        "      <th>4 </th>\n",
        "      <td> 105</td>\n",
        "      <td>                         The King of Omashu</td>\n",
        "      <td> 329.5</td>\n",
        "      <td> -28.5</td>\n",
        "      <td>-0.086</td>\n",
        "      <td> 3.54</td>\n",
        "    </tr>\n",
        "    <tr>\n",
        "      <th>5 </th>\n",
        "      <td> 106</td>\n",
        "      <td>                                 Imprisoned</td>\n",
        "      <td> 350.5</td>\n",
        "      <td> -45.5</td>\n",
        "      <td>-0.130</td>\n",
        "      <td> 3.38</td>\n",
        "    </tr>\n",
        "    <tr>\n",
        "      <th>6 </th>\n",
        "      <td> 107</td>\n",
        "      <td> The Spirit World (Winter Solstice, Part 1)</td>\n",
        "      <td> 310.5</td>\n",
        "      <td> -31.5</td>\n",
        "      <td>-0.101</td>\n",
        "      <td> 3.29</td>\n",
        "    </tr>\n",
        "    <tr>\n",
        "      <th>7 </th>\n",
        "      <td> 108</td>\n",
        "      <td>      Avatar Roku (Winter Solstice, Part 2)</td>\n",
        "      <td> 307.0</td>\n",
        "      <td> -39.0</td>\n",
        "      <td>-0.127</td>\n",
        "      <td> 3.12</td>\n",
        "    </tr>\n",
        "    <tr>\n",
        "      <th>8 </th>\n",
        "      <td> 109</td>\n",
        "      <td>                    The Waterbending Scroll</td>\n",
        "      <td> 404.0</td>\n",
        "      <td> -60.0</td>\n",
        "      <td>-0.149</td>\n",
        "      <td> 3.15</td>\n",
        "    </tr>\n",
        "    <tr>\n",
        "      <th>9 </th>\n",
        "      <td> 110</td>\n",
        "      <td>                                        Jet</td>\n",
        "      <td> 416.5</td>\n",
        "      <td>-109.5</td>\n",
        "      <td>-0.263</td>\n",
        "      <td> 3.40</td>\n",
        "    </tr>\n",
        "    <tr>\n",
        "      <th>10</th>\n",
        "      <td> 111</td>\n",
        "      <td>                           The Great Divide</td>\n",
        "      <td> 432.0</td>\n",
        "      <td>-150.0</td>\n",
        "      <td>-0.347</td>\n",
        "      <td> 3.10</td>\n",
        "    </tr>\n",
        "    <tr>\n",
        "      <th>11</th>\n",
        "      <td> 112</td>\n",
        "      <td>                                  The Storm</td>\n",
        "      <td> 404.5</td>\n",
        "      <td>-109.5</td>\n",
        "      <td>-0.271</td>\n",
        "      <td> 3.25</td>\n",
        "    </tr>\n",
        "    <tr>\n",
        "      <th>12</th>\n",
        "      <td> 113</td>\n",
        "      <td>                            The Blue Spirit</td>\n",
        "      <td> 284.5</td>\n",
        "      <td>-109.5</td>\n",
        "      <td>-0.385</td>\n",
        "      <td> 3.19</td>\n",
        "    </tr>\n",
        "    <tr>\n",
        "      <th>13</th>\n",
        "      <td> 114</td>\n",
        "      <td>                          The Fortuneteller</td>\n",
        "      <td> 399.0</td>\n",
        "      <td> -50.0</td>\n",
        "      <td>-0.125</td>\n",
        "      <td> 2.05</td>\n",
        "    </tr>\n",
        "    <tr>\n",
        "      <th>14</th>\n",
        "      <td> 115</td>\n",
        "      <td>                    Bato of the Water Tribe</td>\n",
        "      <td> 343.5</td>\n",
        "      <td> -59.5</td>\n",
        "      <td>-0.173</td>\n",
        "      <td> 3.37</td>\n",
        "    </tr>\n",
        "    <tr>\n",
        "      <th>15</th>\n",
        "      <td> 116</td>\n",
        "      <td>                               The Deserter</td>\n",
        "      <td> 357.5</td>\n",
        "      <td> -64.5</td>\n",
        "      <td>-0.180</td>\n",
        "      <td> 3.17</td>\n",
        "    </tr>\n",
        "    <tr>\n",
        "      <th>16</th>\n",
        "      <td> 117</td>\n",
        "      <td>                    The Northern Air Temple</td>\n",
        "      <td> 350.0</td>\n",
        "      <td> -48.0</td>\n",
        "      <td>-0.137</td>\n",
        "      <td> 1.68</td>\n",
        "    </tr>\n",
        "    <tr>\n",
        "      <th>17</th>\n",
        "      <td> 118</td>\n",
        "      <td>                    The Waterbending Master</td>\n",
        "      <td> 349.0</td>\n",
        "      <td> -33.0</td>\n",
        "      <td>-0.095</td>\n",
        "      <td> 3.50</td>\n",
        "    </tr>\n",
        "    <tr>\n",
        "      <th>18</th>\n",
        "      <td> 119</td>\n",
        "      <td>             The Siege of the North, Part 1</td>\n",
        "      <td> 360.5</td>\n",
        "      <td> -39.5</td>\n",
        "      <td>-0.110</td>\n",
        "      <td> 3.42</td>\n",
        "    </tr>\n",
        "    <tr>\n",
        "      <th>19</th>\n",
        "      <td> 120</td>\n",
        "      <td>             The Siege of the North, Part 2</td>\n",
        "      <td> 384.5</td>\n",
        "      <td>-123.5</td>\n",
        "      <td>-0.321</td>\n",
        "      <td> 3.42</td>\n",
        "    </tr>\n",
        "    <tr>\n",
        "      <th>20</th>\n",
        "      <td> 201</td>\n",
        "      <td>                           The Avatar State</td>\n",
        "      <td> 446.5</td>\n",
        "      <td>-131.5</td>\n",
        "      <td>-0.295</td>\n",
        "      <td> 3.38</td>\n",
        "    </tr>\n",
        "    <tr>\n",
        "      <th>21</th>\n",
        "      <td> 202</td>\n",
        "      <td>                     The Cave of Two Lovers</td>\n",
        "      <td> 410.5</td>\n",
        "      <td> -84.5</td>\n",
        "      <td>-0.206</td>\n",
        "      <td> 3.27</td>\n",
        "    </tr>\n",
        "    <tr>\n",
        "      <th>22</th>\n",
        "      <td> 203</td>\n",
        "      <td>                           Return to Omashu</td>\n",
        "      <td> 451.0</td>\n",
        "      <td> -89.0</td>\n",
        "      <td>-0.197</td>\n",
        "      <td> 3.20</td>\n",
        "    </tr>\n",
        "    <tr>\n",
        "      <th>23</th>\n",
        "      <td> 204</td>\n",
        "      <td>                                  The Swamp</td>\n",
        "      <td> 340.5</td>\n",
        "      <td>-127.5</td>\n",
        "      <td>-0.374</td>\n",
        "      <td> 3.10</td>\n",
        "    </tr>\n",
        "    <tr>\n",
        "      <th>24</th>\n",
        "      <td> 205</td>\n",
        "      <td>                                 Avatar Day</td>\n",
        "      <td> 408.5</td>\n",
        "      <td> -79.5</td>\n",
        "      <td>-0.195</td>\n",
        "      <td> 3.11</td>\n",
        "    </tr>\n",
        "    <tr>\n",
        "      <th>25</th>\n",
        "      <td> 206</td>\n",
        "      <td>                           The Blind Bandit</td>\n",
        "      <td> 489.5</td>\n",
        "      <td> -56.5</td>\n",
        "      <td>-0.115</td>\n",
        "      <td> 3.33</td>\n",
        "    </tr>\n",
        "    <tr>\n",
        "      <th>26</th>\n",
        "      <td> 207</td>\n",
        "      <td>                                 Zuko Alone</td>\n",
        "      <td> 387.0</td>\n",
        "      <td>-103.0</td>\n",
        "      <td>-0.266</td>\n",
        "      <td> 3.33</td>\n",
        "    </tr>\n",
        "    <tr>\n",
        "      <th>27</th>\n",
        "      <td> 208</td>\n",
        "      <td>                                  The Chase</td>\n",
        "      <td> 406.5</td>\n",
        "      <td> -67.5</td>\n",
        "      <td>-0.166</td>\n",
        "      <td> 3.33</td>\n",
        "    </tr>\n",
        "    <tr>\n",
        "      <th>28</th>\n",
        "      <td> 209</td>\n",
        "      <td>                                Bitter Work</td>\n",
        "      <td> 383.0</td>\n",
        "      <td> -49.0</td>\n",
        "      <td>-0.128</td>\n",
        "      <td> 3.26</td>\n",
        "    </tr>\n",
        "    <tr>\n",
        "      <th>29</th>\n",
        "      <td> 210</td>\n",
        "      <td>                                The Library</td>\n",
        "      <td> 372.5</td>\n",
        "      <td> -60.5</td>\n",
        "      <td>-0.162</td>\n",
        "      <td> 3.18</td>\n",
        "    </tr>\n",
        "    <tr>\n",
        "      <th>...</th>\n",
        "      <td>...</td>\n",
        "      <td>...</td>\n",
        "      <td>...</td>\n",
        "      <td>...</td>\n",
        "      <td>...</td>\n",
        "      <td>...</td>\n",
        "    </tr>\n",
        "    <tr>\n",
        "      <th>31</th>\n",
        "      <td> 212</td>\n",
        "      <td>                         The Serpent's Pass</td>\n",
        "      <td> 408.5</td>\n",
        "      <td> -61.5</td>\n",
        "      <td>-0.151</td>\n",
        "      <td> 4.10</td>\n",
        "    </tr>\n",
        "    <tr>\n",
        "      <th>32</th>\n",
        "      <td> 213</td>\n",
        "      <td>                                  The Drill</td>\n",
        "      <td> 440.0</td>\n",
        "      <td>-130.0</td>\n",
        "      <td>-0.295</td>\n",
        "      <td> 4.10</td>\n",
        "    </tr>\n",
        "    <tr>\n",
        "      <th>33</th>\n",
        "      <td> 214</td>\n",
        "      <td>                  City of Walls and Secrets</td>\n",
        "      <td> 311.0</td>\n",
        "      <td> -25.0</td>\n",
        "      <td>-0.080</td>\n",
        "      <td> 3.27</td>\n",
        "    </tr>\n",
        "    <tr>\n",
        "      <th>34</th>\n",
        "      <td> 215</td>\n",
        "      <td>                        Tales of Ba Sing Se</td>\n",
        "      <td> 398.0</td>\n",
        "      <td> -16.0</td>\n",
        "      <td>-0.040</td>\n",
        "      <td> 3.12</td>\n",
        "    </tr>\n",
        "    <tr>\n",
        "      <th>35</th>\n",
        "      <td> 216</td>\n",
        "      <td>                           Appa's Lost Days</td>\n",
        "      <td> 414.5</td>\n",
        "      <td>-174.5</td>\n",
        "      <td>-0.421</td>\n",
        "      <td> 3.54</td>\n",
        "    </tr>\n",
        "    <tr>\n",
        "      <th>36</th>\n",
        "      <td> 217</td>\n",
        "      <td>                                Lake Laogai</td>\n",
        "      <td> 416.0</td>\n",
        "      <td>-160.0</td>\n",
        "      <td>-0.385</td>\n",
        "      <td> 3.27</td>\n",
        "    </tr>\n",
        "    <tr>\n",
        "      <th>37</th>\n",
        "      <td> 218</td>\n",
        "      <td>                             The Earth King</td>\n",
        "      <td> 453.0</td>\n",
        "      <td> -71.0</td>\n",
        "      <td>-0.157</td>\n",
        "      <td> 3.76</td>\n",
        "    </tr>\n",
        "    <tr>\n",
        "      <th>38</th>\n",
        "      <td> 219</td>\n",
        "      <td>                                   The Guru</td>\n",
        "      <td> 473.5</td>\n",
        "      <td> -20.5</td>\n",
        "      <td>-0.043</td>\n",
        "      <td> 4.40</td>\n",
        "    </tr>\n",
        "    <tr>\n",
        "      <th>39</th>\n",
        "      <td> 220</td>\n",
        "      <td>                  The Crossroads of Destiny</td>\n",
        "      <td> 442.0</td>\n",
        "      <td> -76.0</td>\n",
        "      <td>-0.172</td>\n",
        "      <td> 4.40</td>\n",
        "    </tr>\n",
        "    <tr>\n",
        "      <th>40</th>\n",
        "      <td> 301</td>\n",
        "      <td>                              The Awakening</td>\n",
        "      <td> 316.0</td>\n",
        "      <td> -76.0</td>\n",
        "      <td>-0.241</td>\n",
        "      <td> 3.06</td>\n",
        "    </tr>\n",
        "    <tr>\n",
        "      <th>41</th>\n",
        "      <td> 302</td>\n",
        "      <td>                               The Headband</td>\n",
        "      <td> 329.0</td>\n",
        "      <td> -51.0</td>\n",
        "      <td>-0.155</td>\n",
        "      <td> 3.06</td>\n",
        "    </tr>\n",
        "    <tr>\n",
        "      <th>42</th>\n",
        "      <td> 303</td>\n",
        "      <td>                           The Painted Lady</td>\n",
        "      <td> 244.0</td>\n",
        "      <td> -77.0</td>\n",
        "      <td>-0.316</td>\n",
        "      <td> 3.22</td>\n",
        "    </tr>\n",
        "    <tr>\n",
        "      <th>43</th>\n",
        "      <td> 304</td>\n",
        "      <td>                             Sokka's Master</td>\n",
        "      <td> 391.5</td>\n",
        "      <td> -48.5</td>\n",
        "      <td>-0.124</td>\n",
        "      <td> 3.22</td>\n",
        "    </tr>\n",
        "    <tr>\n",
        "      <th>44</th>\n",
        "      <td> 305</td>\n",
        "      <td>                                  The Beach</td>\n",
        "      <td> 409.0</td>\n",
        "      <td> -69.0</td>\n",
        "      <td>-0.169</td>\n",
        "      <td> 3.22</td>\n",
        "    </tr>\n",
        "    <tr>\n",
        "      <th>45</th>\n",
        "      <td> 306</td>\n",
        "      <td>                The Avatar and the Firelord</td>\n",
        "      <td> 396.0</td>\n",
        "      <td>  -4.0</td>\n",
        "      <td>-0.010</td>\n",
        "      <td> 3.20</td>\n",
        "    </tr>\n",
        "    <tr>\n",
        "      <th>46</th>\n",
        "      <td> 307</td>\n",
        "      <td>                                The Runaway</td>\n",
        "      <td> 261.0</td>\n",
        "      <td> -63.0</td>\n",
        "      <td>-0.241</td>\n",
        "      <td> 3.22</td>\n",
        "    </tr>\n",
        "    <tr>\n",
        "      <th>47</th>\n",
        "      <td> 308</td>\n",
        "      <td>                           The Puppetmaster</td>\n",
        "      <td> 337.5</td>\n",
        "      <td> -84.5</td>\n",
        "      <td>-0.250</td>\n",
        "      <td> 3.52</td>\n",
        "    </tr>\n",
        "    <tr>\n",
        "      <th>48</th>\n",
        "      <td> 309</td>\n",
        "      <td>                   Nightmares and Daydreams</td>\n",
        "      <td> 353.0</td>\n",
        "      <td> -95.0</td>\n",
        "      <td>-0.269</td>\n",
        "      <td> 3.52</td>\n",
        "    </tr>\n",
        "    <tr>\n",
        "      <th>49</th>\n",
        "      <td> 310</td>\n",
        "      <td> The Day of Black Sun, Part 1: The Invasion</td>\n",
        "      <td> 316.5</td>\n",
        "      <td>-122.5</td>\n",
        "      <td>-0.387</td>\n",
        "      <td> 3.77</td>\n",
        "    </tr>\n",
        "    <tr>\n",
        "      <th>50</th>\n",
        "      <td> 311</td>\n",
        "      <td>  The Day of Black Sun, Part 2: The Eclipse</td>\n",
        "      <td> 330.0</td>\n",
        "      <td> -50.0</td>\n",
        "      <td>-0.152</td>\n",
        "      <td> 3.77</td>\n",
        "    </tr>\n",
        "    <tr>\n",
        "      <th>51</th>\n",
        "      <td> 312</td>\n",
        "      <td>                     The Western Air Temple</td>\n",
        "      <td> 426.0</td>\n",
        "      <td>-123.0</td>\n",
        "      <td>-0.289</td>\n",
        "      <td> 3.55</td>\n",
        "    </tr>\n",
        "    <tr>\n",
        "      <th>52</th>\n",
        "      <td> 313</td>\n",
        "      <td>                    The Firebending Masters</td>\n",
        "      <td> 375.0</td>\n",
        "      <td> -90.0</td>\n",
        "      <td>-0.240</td>\n",
        "      <td> 3.55</td>\n",
        "    </tr>\n",
        "    <tr>\n",
        "      <th>53</th>\n",
        "      <td> 314</td>\n",
        "      <td>                   The Boiling Rock, Part 1</td>\n",
        "      <td> 304.0</td>\n",
        "      <td>-124.0</td>\n",
        "      <td>-0.408</td>\n",
        "      <td> 3.97</td>\n",
        "    </tr>\n",
        "    <tr>\n",
        "      <th>54</th>\n",
        "      <td> 315</td>\n",
        "      <td>                   The Boiling Rock, Part 2</td>\n",
        "      <td> 279.0</td>\n",
        "      <td>-107.0</td>\n",
        "      <td>-0.384</td>\n",
        "      <td> 3.97</td>\n",
        "    </tr>\n",
        "    <tr>\n",
        "      <th>55</th>\n",
        "      <td> 316</td>\n",
        "      <td>                       The Southern Raiders</td>\n",
        "      <td> 314.5</td>\n",
        "      <td>-111.5</td>\n",
        "      <td>-0.355</td>\n",
        "      <td> 4.23</td>\n",
        "    </tr>\n",
        "    <tr>\n",
        "      <th>56</th>\n",
        "      <td> 317</td>\n",
        "      <td>                   The Ember Island Players</td>\n",
        "      <td> 426.0</td>\n",
        "      <td> -98.0</td>\n",
        "      <td>-0.230</td>\n",
        "      <td> 4.53</td>\n",
        "    </tr>\n",
        "    <tr>\n",
        "      <th>57</th>\n",
        "      <td> 318</td>\n",
        "      <td>    Sozin's Comet, Part 1: The Phoenix King</td>\n",
        "      <td> 399.0</td>\n",
        "      <td> -65.0</td>\n",
        "      <td>-0.163</td>\n",
        "      <td> 5.59</td>\n",
        "    </tr>\n",
        "    <tr>\n",
        "      <th>58</th>\n",
        "      <td> 319</td>\n",
        "      <td>     Sozin's Comet, Part 2: The Old Masters</td>\n",
        "      <td> 339.0</td>\n",
        "      <td> -22.0</td>\n",
        "      <td>-0.065</td>\n",
        "      <td> 5.59</td>\n",
        "    </tr>\n",
        "    <tr>\n",
        "      <th>59</th>\n",
        "      <td> 320</td>\n",
        "      <td>    Sozin's Comet, Part 3: Into the Inferno</td>\n",
        "      <td> 306.0</td>\n",
        "      <td>-121.0</td>\n",
        "      <td>-0.395</td>\n",
        "      <td> 5.59</td>\n",
        "    </tr>\n",
        "    <tr>\n",
        "      <th>60</th>\n",
        "      <td> 321</td>\n",
        "      <td>         Sozin's Comet, Part 4: Avatar Aang</td>\n",
        "      <td> 337.0</td>\n",
        "      <td> -70.0</td>\n",
        "      <td>-0.208</td>\n",
        "      <td> 5.59</td>\n",
        "    </tr>\n",
        "  </tbody>\n",
        "</table>\n",
        "<p>61 rows \u00d7 6 columns</p>\n",
        "</div>"
       ],
       "metadata": {},
       "output_type": "pyout",
       "prompt_number": 21,
       "text": [
        "   Episode Number                                     Episode  \\\n",
        "0             101                      The Boy in the Iceberg   \n",
        "1             102                          The Avatar Returns   \n",
        "2             103                     The Southern Air Temple   \n",
        "3             104                      The Warriors of Kyoshi   \n",
        "4             105                          The King of Omashu   \n",
        "5             106                                  Imprisoned   \n",
        "6             107  The Spirit World (Winter Solstice, Part 1)   \n",
        "7             108       Avatar Roku (Winter Solstice, Part 2)   \n",
        "8             109                     The Waterbending Scroll   \n",
        "9             110                                         Jet   \n",
        "10            111                            The Great Divide   \n",
        "11            112                                   The Storm   \n",
        "12            113                             The Blue Spirit   \n",
        "13            114                           The Fortuneteller   \n",
        "14            115                     Bato of the Water Tribe   \n",
        "15            116                                The Deserter   \n",
        "16            117                     The Northern Air Temple   \n",
        "17            118                     The Waterbending Master   \n",
        "18            119              The Siege of the North, Part 1   \n",
        "19            120              The Siege of the North, Part 2   \n",
        "20            201                            The Avatar State   \n",
        "21            202                      The Cave of Two Lovers   \n",
        "22            203                            Return to Omashu   \n",
        "23            204                                   The Swamp   \n",
        "24            205                                  Avatar Day   \n",
        "25            206                            The Blind Bandit   \n",
        "26            207                                  Zuko Alone   \n",
        "27            208                                   The Chase   \n",
        "28            209                                 Bitter Work   \n",
        "29            210                                 The Library   \n",
        "..            ...                                         ...   \n",
        "31            212                          The Serpent's Pass   \n",
        "32            213                                   The Drill   \n",
        "33            214                   City of Walls and Secrets   \n",
        "34            215                         Tales of Ba Sing Se   \n",
        "35            216                            Appa's Lost Days   \n",
        "36            217                                 Lake Laogai   \n",
        "37            218                              The Earth King   \n",
        "38            219                                    The Guru   \n",
        "39            220                   The Crossroads of Destiny   \n",
        "40            301                               The Awakening   \n",
        "41            302                                The Headband   \n",
        "42            303                            The Painted Lady   \n",
        "43            304                              Sokka's Master   \n",
        "44            305                                   The Beach   \n",
        "45            306                 The Avatar and the Firelord   \n",
        "46            307                                 The Runaway   \n",
        "47            308                            The Puppetmaster   \n",
        "48            309                    Nightmares and Daydreams   \n",
        "49            310  The Day of Black Sun, Part 1: The Invasion   \n",
        "50            311   The Day of Black Sun, Part 2: The Eclipse   \n",
        "51            312                      The Western Air Temple   \n",
        "52            313                     The Firebending Masters   \n",
        "53            314                    The Boiling Rock, Part 1   \n",
        "54            315                    The Boiling Rock, Part 2   \n",
        "55            316                        The Southern Raiders   \n",
        "56            317                    The Ember Island Players   \n",
        "57            318     Sozin's Comet, Part 1: The Phoenix King   \n",
        "58            319      Sozin's Comet, Part 2: The Old Masters   \n",
        "59            320     Sozin's Comet, Part 3: Into the Inferno   \n",
        "60            321          Sozin's Comet, Part 4: Avatar Aang   \n",
        "\n",
        "    Total Non-Neutral Weight  Sentiment Balance  Balance Percentage  \\\n",
        "0                      304.0              -82.0              -0.270   \n",
        "1                      273.0              -61.0              -0.223   \n",
        "2                      388.5              -69.5              -0.179   \n",
        "3                      358.5              -47.5              -0.132   \n",
        "4                      329.5              -28.5              -0.086   \n",
        "5                      350.5              -45.5              -0.130   \n",
        "6                      310.5              -31.5              -0.101   \n",
        "7                      307.0              -39.0              -0.127   \n",
        "8                      404.0              -60.0              -0.149   \n",
        "9                      416.5             -109.5              -0.263   \n",
        "10                     432.0             -150.0              -0.347   \n",
        "11                     404.5             -109.5              -0.271   \n",
        "12                     284.5             -109.5              -0.385   \n",
        "13                     399.0              -50.0              -0.125   \n",
        "14                     343.5              -59.5              -0.173   \n",
        "15                     357.5              -64.5              -0.180   \n",
        "16                     350.0              -48.0              -0.137   \n",
        "17                     349.0              -33.0              -0.095   \n",
        "18                     360.5              -39.5              -0.110   \n",
        "19                     384.5             -123.5              -0.321   \n",
        "20                     446.5             -131.5              -0.295   \n",
        "21                     410.5              -84.5              -0.206   \n",
        "22                     451.0              -89.0              -0.197   \n",
        "23                     340.5             -127.5              -0.374   \n",
        "24                     408.5              -79.5              -0.195   \n",
        "25                     489.5              -56.5              -0.115   \n",
        "26                     387.0             -103.0              -0.266   \n",
        "27                     406.5              -67.5              -0.166   \n",
        "28                     383.0              -49.0              -0.128   \n",
        "29                     372.5              -60.5              -0.162   \n",
        "..                       ...                ...                 ...   \n",
        "31                     408.5              -61.5              -0.151   \n",
        "32                     440.0             -130.0              -0.295   \n",
        "33                     311.0              -25.0              -0.080   \n",
        "34                     398.0              -16.0              -0.040   \n",
        "35                     414.5             -174.5              -0.421   \n",
        "36                     416.0             -160.0              -0.385   \n",
        "37                     453.0              -71.0              -0.157   \n",
        "38                     473.5              -20.5              -0.043   \n",
        "39                     442.0              -76.0              -0.172   \n",
        "40                     316.0              -76.0              -0.241   \n",
        "41                     329.0              -51.0              -0.155   \n",
        "42                     244.0              -77.0              -0.316   \n",
        "43                     391.5              -48.5              -0.124   \n",
        "44                     409.0              -69.0              -0.169   \n",
        "45                     396.0               -4.0              -0.010   \n",
        "46                     261.0              -63.0              -0.241   \n",
        "47                     337.5              -84.5              -0.250   \n",
        "48                     353.0              -95.0              -0.269   \n",
        "49                     316.5             -122.5              -0.387   \n",
        "50                     330.0              -50.0              -0.152   \n",
        "51                     426.0             -123.0              -0.289   \n",
        "52                     375.0              -90.0              -0.240   \n",
        "53                     304.0             -124.0              -0.408   \n",
        "54                     279.0             -107.0              -0.384   \n",
        "55                     314.5             -111.5              -0.355   \n",
        "56                     426.0              -98.0              -0.230   \n",
        "57                     399.0              -65.0              -0.163   \n",
        "58                     339.0              -22.0              -0.065   \n",
        "59                     306.0             -121.0              -0.395   \n",
        "60                     337.0              -70.0              -0.208   \n",
        "\n",
        "    Viewership (Mil)  \n",
        "0               3.47  \n",
        "1               3.47  \n",
        "2               3.41  \n",
        "3               3.47  \n",
        "4               3.54  \n",
        "5               3.38  \n",
        "6               3.29  \n",
        "7               3.12  \n",
        "8               3.15  \n",
        "9               3.40  \n",
        "10              3.10  \n",
        "11              3.25  \n",
        "12              3.19  \n",
        "13              2.05  \n",
        "14              3.37  \n",
        "15              3.17  \n",
        "16              1.68  \n",
        "17              3.50  \n",
        "18              3.42  \n",
        "19              3.42  \n",
        "20              3.38  \n",
        "21              3.27  \n",
        "22              3.20  \n",
        "23              3.10  \n",
        "24              3.11  \n",
        "25              3.33  \n",
        "26              3.33  \n",
        "27              3.33  \n",
        "28              3.26  \n",
        "29              3.18  \n",
        "..               ...  \n",
        "31              4.10  \n",
        "32              4.10  \n",
        "33              3.27  \n",
        "34              3.12  \n",
        "35              3.54  \n",
        "36              3.27  \n",
        "37              3.76  \n",
        "38              4.40  \n",
        "39              4.40  \n",
        "40              3.06  \n",
        "41              3.06  \n",
        "42              3.22  \n",
        "43              3.22  \n",
        "44              3.22  \n",
        "45              3.20  \n",
        "46              3.22  \n",
        "47              3.52  \n",
        "48              3.52  \n",
        "49              3.77  \n",
        "50              3.77  \n",
        "51              3.55  \n",
        "52              3.55  \n",
        "53              3.97  \n",
        "54              3.97  \n",
        "55              4.23  \n",
        "56              4.53  \n",
        "57              5.59  \n",
        "58              5.59  \n",
        "59              5.59  \n",
        "60              5.59  \n",
        "\n",
        "[61 rows x 6 columns]"
       ]
      }
     ],
     "prompt_number": 21
    },
    {
     "cell_type": "markdown",
     "metadata": {},
     "source": [
      "###Plotting Viewership data and Balance Percentage as the Primary Sentiment Indicator"
     ]
    },
    {
     "cell_type": "code",
     "collapsed": false,
     "input": [
      "df[['Episode',\n",
      "    'Balance Percentage',\n",
      "    'Viewership (Mil)']].plot(\n",
      "kind='bar',\n",
      "figsize=(50,10),\n",
      "x='Episode',\n",
      "title='Avatar: The Last Airbender',\n",
      "#marker='.',\n",
      "#markersize=20\n",
      ")"
     ],
     "language": "python",
     "metadata": {},
     "outputs": [
      {
       "metadata": {},
       "output_type": "pyout",
       "prompt_number": 22,
       "text": [
        "<matplotlib.axes._subplots.AxesSubplot at 0x186ab3c8>"
       ]
      },
      {
       "metadata": {},
       "output_type": "display_data",
       "png": "[encoded data removed]",
       "text": [
        "<matplotlib.figure.Figure at 0x186abfd0>"
       ]
      }
     ],
     "prompt_number": 22
    },
    {
     "cell_type": "markdown",
     "metadata": {},
     "source": [
      "---"
     ]
    },
    {
     "cell_type": "markdown",
     "metadata": {},
     "source": [
      "#Aggregating all tokens for a series-wide analysis"
     ]
    },
    {
     "cell_type": "code",
     "collapsed": false,
     "input": [
      "import requests\n",
      "from bs4 import BeautifulSoup as bs\n",
      "import nltk\n",
      "import re"
     ],
     "language": "python",
     "metadata": {},
     "outputs": [],
     "prompt_number": 23
    },
    {
     "cell_type": "code",
     "collapsed": false,
     "input": [
      "raw_html = [requests.get(url).text for url in urls]"
     ],
     "language": "python",
     "metadata": {},
     "outputs": [],
     "prompt_number": 24
    },
    {
     "cell_type": "code",
     "collapsed": false,
     "input": [
      "#EXCLUDE NON-RELEVANT PAGE SECTIONS\n",
      "top = 'Transcriber'\n",
      "bottom = '[End Credits]'\n",
      "slim_html = [x.split(top)[1].split(bottom)[0] for x in raw_html]\n",
      "#html = str()"
     ],
     "language": "python",
     "metadata": {},
     "outputs": [],
     "prompt_number": 25
    },
    {
     "cell_type": "code",
     "collapsed": false,
     "input": [
      "#html = slim_html - formatted"
     ],
     "language": "python",
     "metadata": {},
     "outputs": [],
     "prompt_number": 28
    },
    {
     "cell_type": "code",
     "collapsed": false,
     "input": [
      "soup = [bs(x) for x in slim_html]\n",
      "souped_text = [x.get_text() for x in soup]\n",
      "encoded_text = [x.encode('utf-8') for x in souped_text]"
     ],
     "language": "python",
     "metadata": {},
     "outputs": [],
     "prompt_number": 40
    },
    {
     "cell_type": "code",
     "collapsed": false,
     "input": [
      "#TOKENIZE TEXT\n",
      "import nltk\n",
      "tokens = [nltk.word_tokenize(x) for x in encoded_text] #tokenizes unicode text, separating each word and turning it into an item in list 'tokens'"
     ],
     "language": "python",
     "metadata": {},
     "outputs": [],
     "prompt_number": 47
    },
    {
     "cell_type": "code",
     "collapsed": false,
     "input": [
      "sum([len(x) for x in tokens]) #total words"
     ],
     "language": "python",
     "metadata": {},
     "outputs": [
      {
       "metadata": {},
       "output_type": "pyout",
       "prompt_number": 48,
       "text": [
        "492928"
       ]
      }
     ],
     "prompt_number": 48
    },
    {
     "cell_type": "code",
     "collapsed": false,
     "input": [
      "#Stripping non-alphabetic items\n",
      "consolidated_text = list()\n",
      "\n",
      "for row in tokens:\n",
      "    consolidated_text += [word for word in row]\n",
      "    \n",
      "alpha = [word for word in consolidated_text if word.isalpha() == True]"
     ],
     "language": "python",
     "metadata": {},
     "outputs": [],
     "prompt_number": 49
    },
    {
     "cell_type": "code",
     "collapsed": false,
     "input": [
      "len(alpha)"
     ],
     "language": "python",
     "metadata": {},
     "outputs": [
      {
       "metadata": {},
       "output_type": "pyout",
       "prompt_number": 50,
       "text": [
        "392107"
       ]
      }
     ],
     "prompt_number": 50
    },
    {
     "cell_type": "markdown",
     "metadata": {},
     "source": [
      "###Calculating word counts"
     ]
    },
    {
     "cell_type": "code",
     "collapsed": false,
     "input": [
      "a_df = pd.DataFrame(alpha)\n",
      "a_df.columns = ['Word']\n",
      "a_df['Word Count'] = [1 for x in a_df['Word']]\n",
      "a_df = a_df.groupby('Word').count()\n",
      "a_df = a_df.reset_index()"
     ],
     "language": "python",
     "metadata": {},
     "outputs": [],
     "prompt_number": 51
    },
    {
     "cell_type": "markdown",
     "metadata": {},
     "source": [
      "###Removing stopwords"
     ]
    },
    {
     "cell_type": "code",
     "collapsed": false,
     "input": [
      "#IMPORTING STOPWORD CORPUS\n",
      "from nltk.corpus import stopwords\n",
      "stopwords = stopwords.words('english')\n",
      "a_df = a_df[[x not in stopwords for x in a_df['Word']]]"
     ],
     "language": "python",
     "metadata": {},
     "outputs": [],
     "prompt_number": 52
    },
    {
     "cell_type": "markdown",
     "metadata": {},
     "source": [
      "###Calculating frequency, percentages"
     ]
    },
    {
     "cell_type": "code",
     "collapsed": false,
     "input": [
      "#DETERMINING FREQUENCY-WEIGHTS FOR EACH WORD\n",
      "a_df['Frequency-Weight'] = 1\n",
      "a_df.ix[a_df['Word Count'] == 1, 'Frequency-Weight'] = 2\n",
      "a_df.ix[a_df['Word Count'] > 10, 'Frequency-Weight'] = 0.5\n",
      "\n",
      "#CALCULATING SHARE OF TEXT FOR EACH UNIQUE WORD\n",
      "a_df['Share of Words'] = a_df['Word Count']/a_df['Word Count'].sum()"
     ],
     "language": "python",
     "metadata": {},
     "outputs": [],
     "prompt_number": 53
    },
    {
     "cell_type": "markdown",
     "metadata": {},
     "source": [
      "###Assigning calculated sentiment"
     ]
    },
    {
     "cell_type": "code",
     "collapsed": false,
     "input": [
      "#ASSIGNING INITAL POLARITY WITH PRE-DEFINED POS/NEG WORDBANKS\n",
      "a_df['Polarity'] = 0\n",
      "\n",
      "positive_emotions = ['curious', 'attract', 'surprise', 'hope', 'Hope', \n",
      "                 'thank', 'joy', 'relief', 'proud', 'Joy', \n",
      "                 'generous', 'sympath', 'love', 'amuse', 'Love',\n",
      "                 'delight', 'elat', 'excit', 'happy', 'happi', 'Happi',\n",
      "                 'joy', 'pleasure', 'affection', 'empath', 'friendl']\n",
      "negative_emotions = ['alarm', 'disgust', 'indifferen', 'fear', 'Fear', \n",
      "                 'rage', 'sorrow', 'grief', 'frustrat', 'disappoint', \n",
      "                 'embarrass', 'shame', 'guilt', 'remorse', 'greed', 'Greed',  \n",
      "                 'miser', 'jealous', 'cruel', 'hate', 'anger', 'annoyed', 'Anger', 'Hate',\n",
      "                 'disgust', 'irrit', 'anxious', 'anxiety', 'helpless',\n",
      "                 'worry', 'doubt', 'shame', 'bored', 'despar', 'hurt']"
     ],
     "language": "python",
     "metadata": {},
     "outputs": [],
     "prompt_number": 54
    },
    {
     "cell_type": "code",
     "collapsed": false,
     "input": [
      "#PROCESSING PRE-DEFINED POSITIVE AND NEGATIVE WORDBANKS\n",
      "pos_bank = 'https://raw.githubusercontent.com/c-trl/nlp-with-xanga-entries/master/positive_wordbank.txt'\n",
      "pos_words_text = requests.get(pos_bank).text\n",
      "pos_soup = bs(pos_words_text) #converts string variable to unicode\n",
      "souped_pos_words = pos_soup.get_text() #stores unicode text in variable 'souped_text'\n",
      "encoded_pos_words = souped_pos_words.encode('utf-8') #converts unicode text to utf-8\n",
      "positive_words = nltk.word_tokenize(encoded_pos_words) #tokenizes unicode text, separating each word and turning it into an item in list 'tokens'\n",
      "\n",
      "neg_bank = 'https://raw.githubusercontent.com/c-trl/nlp-with-xanga-entries/master/negative_wordbank.txt'    \n",
      "neg_words_text = requests.get(neg_bank).text\n",
      "neg_soup = bs(neg_words_text) #converts string variable to unicode\n",
      "souped_neg_words = neg_soup.get_text() #stores unicode text in variable 'souped_text'\n",
      "encoded_neg_words = souped_neg_words.encode('utf-8') #converts unicode text to utf-8\n",
      "negative_words = nltk.word_tokenize(encoded_neg_words)"
     ],
     "language": "python",
     "metadata": {},
     "outputs": [],
     "prompt_number": 55
    },
    {
     "cell_type": "code",
     "collapsed": false,
     "input": [
      "a_df.ix[a_df.Word.isin(positive_emotions), 'Polarity'] = 1\n",
      "a_df.ix[a_df.Word.isin(negative_emotions), 'Polarity'] = -1\n",
      "a_df.ix[a_df.Word.isin(positive_words), 'Polarity'] = 1\n",
      "a_df.ix[a_df.Word.isin(negative_words), 'Polarity'] = -1"
     ],
     "language": "python",
     "metadata": {},
     "outputs": [],
     "prompt_number": 56
    },
    {
     "cell_type": "code",
     "collapsed": false,
     "input": [
      "a_df['Adjusted Sentiment'] = a_df['Polarity'] * a_df['Frequency-Weight']\n",
      "a_df['Relative Weight'] = a_df['Word Count'] * a_df['Adjusted Sentiment']"
     ],
     "language": "python",
     "metadata": {},
     "outputs": [],
     "prompt_number": 57
    },
    {
     "cell_type": "code",
     "collapsed": false,
     "input": [
      "a_df[a_df['Relative Weight'] != 0].sort(columns='Relative Weight', ascending=False)"
     ],
     "language": "python",
     "metadata": {},
     "outputs": [
      {
       "html": [
        "<div style=\"max-height:1000px;max-width:1500px;overflow:auto;\">\n",
        "<table border=\"1\" class=\"dataframe\">\n",
        "  <thead>\n",
        "    <tr style=\"text-align: right;\">\n",
        "      <th></th>\n",
        "      <th>Word</th>\n",
        "      <th>Word Count</th>\n",
        "      <th>Frequency-Weight</th>\n",
        "      <th>Share of Words</th>\n",
        "      <th>Polarity</th>\n",
        "      <th>Adjusted Sentiment</th>\n",
        "      <th>Relative Weight</th>\n",
        "    </tr>\n",
        "  </thead>\n",
        "  <tbody>\n",
        "    <tr>\n",
        "      <th>10188</th>\n",
        "      <td>     right</td>\n",
        "      <td> 639</td>\n",
        "      <td> 0.5</td>\n",
        "      <td> 0.002847</td>\n",
        "      <td> 1</td>\n",
        "      <td> 0.5</td>\n",
        "      <td> 319.5</td>\n",
        "    </tr>\n",
        "    <tr>\n",
        "      <th>7803 </th>\n",
        "      <td>      like</td>\n",
        "      <td> 615</td>\n",
        "      <td> 0.5</td>\n",
        "      <td> 0.002740</td>\n",
        "      <td> 1</td>\n",
        "      <td> 0.5</td>\n",
        "      <td> 307.5</td>\n",
        "    </tr>\n",
        "    <tr>\n",
        "      <th>12364</th>\n",
        "      <td>       top</td>\n",
        "      <td> 280</td>\n",
        "      <td> 0.5</td>\n",
        "      <td> 0.001247</td>\n",
        "      <td> 1</td>\n",
        "      <td> 0.5</td>\n",
        "      <td> 140.0</td>\n",
        "    </tr>\n",
        "    <tr>\n",
        "      <th>11106</th>\n",
        "      <td>    smiles</td>\n",
        "      <td> 204</td>\n",
        "      <td> 0.5</td>\n",
        "      <td> 0.000909</td>\n",
        "      <td> 1</td>\n",
        "      <td> 0.5</td>\n",
        "      <td> 102.0</td>\n",
        "    </tr>\n",
        "    <tr>\n",
        "      <th>6471 </th>\n",
        "      <td>      good</td>\n",
        "      <td> 168</td>\n",
        "      <td> 0.5</td>\n",
        "      <td> 0.000748</td>\n",
        "      <td> 1</td>\n",
        "      <td> 0.5</td>\n",
        "      <td>  84.0</td>\n",
        "    </tr>\n",
        "    <tr>\n",
        "      <th>6534 </th>\n",
        "      <td>     great</td>\n",
        "      <td> 157</td>\n",
        "      <td> 0.5</td>\n",
        "      <td> 0.000699</td>\n",
        "      <td> 1</td>\n",
        "      <td> 0.5</td>\n",
        "      <td>  78.5</td>\n",
        "    </tr>\n",
        "    <tr>\n",
        "      <th>11109</th>\n",
        "      <td>   smiling</td>\n",
        "      <td> 156</td>\n",
        "      <td> 0.5</td>\n",
        "      <td> 0.000695</td>\n",
        "      <td> 1</td>\n",
        "      <td> 0.5</td>\n",
        "      <td>  78.0</td>\n",
        "    </tr>\n",
        "    <tr>\n",
        "      <th>9807 </th>\n",
        "      <td>     ready</td>\n",
        "      <td> 127</td>\n",
        "      <td> 0.5</td>\n",
        "      <td> 0.000566</td>\n",
        "      <td> 1</td>\n",
        "      <td> 0.5</td>\n",
        "      <td>  63.5</td>\n",
        "    </tr>\n",
        "    <tr>\n",
        "      <th>3961 </th>\n",
        "      <td>   clearly</td>\n",
        "      <td> 102</td>\n",
        "      <td> 0.5</td>\n",
        "      <td> 0.000454</td>\n",
        "      <td> 1</td>\n",
        "      <td> 0.5</td>\n",
        "      <td>  51.0</td>\n",
        "    </tr>\n",
        "    <tr>\n",
        "      <th>11105</th>\n",
        "      <td>     smile</td>\n",
        "      <td>  98</td>\n",
        "      <td> 0.5</td>\n",
        "      <td> 0.000437</td>\n",
        "      <td> 1</td>\n",
        "      <td> 0.5</td>\n",
        "      <td>  49.0</td>\n",
        "    </tr>\n",
        "    <tr>\n",
        "      <th>13151</th>\n",
        "      <td>      well</td>\n",
        "      <td>  95</td>\n",
        "      <td> 0.5</td>\n",
        "      <td> 0.000423</td>\n",
        "      <td> 1</td>\n",
        "      <td> 0.5</td>\n",
        "      <td>  47.5</td>\n",
        "    </tr>\n",
        "    <tr>\n",
        "      <th>3141 </th>\n",
        "      <td>    better</td>\n",
        "      <td>  91</td>\n",
        "      <td> 0.5</td>\n",
        "      <td> 0.000405</td>\n",
        "      <td> 1</td>\n",
        "      <td> 0.5</td>\n",
        "      <td>  45.5</td>\n",
        "    </tr>\n",
        "    <tr>\n",
        "      <th>5474 </th>\n",
        "      <td>    enough</td>\n",
        "      <td>  80</td>\n",
        "      <td> 0.5</td>\n",
        "      <td> 0.000356</td>\n",
        "      <td> 1</td>\n",
        "      <td> 0.5</td>\n",
        "      <td>  40.0</td>\n",
        "    </tr>\n",
        "    <tr>\n",
        "      <th>7933 </th>\n",
        "      <td>      love</td>\n",
        "      <td>  79</td>\n",
        "      <td> 0.5</td>\n",
        "      <td> 0.000352</td>\n",
        "      <td> 1</td>\n",
        "      <td> 0.5</td>\n",
        "      <td>  39.5</td>\n",
        "    </tr>\n",
        "    <tr>\n",
        "      <th>13336</th>\n",
        "      <td>      work</td>\n",
        "      <td>  73</td>\n",
        "      <td> 0.5</td>\n",
        "      <td> 0.000325</td>\n",
        "      <td> 1</td>\n",
        "      <td> 0.5</td>\n",
        "      <td>  36.5</td>\n",
        "    </tr>\n",
        "    <tr>\n",
        "      <th>11883</th>\n",
        "      <td>  surprise</td>\n",
        "      <td>  69</td>\n",
        "      <td> 0.5</td>\n",
        "      <td> 0.000307</td>\n",
        "      <td> 1</td>\n",
        "      <td> 0.5</td>\n",
        "      <td>  34.5</td>\n",
        "    </tr>\n",
        "    <tr>\n",
        "      <th>9472 </th>\n",
        "      <td>    pretty</td>\n",
        "      <td>  66</td>\n",
        "      <td> 0.5</td>\n",
        "      <td> 0.000294</td>\n",
        "      <td> 1</td>\n",
        "      <td> 0.5</td>\n",
        "      <td>  33.0</td>\n",
        "    </tr>\n",
        "    <tr>\n",
        "      <th>7691 </th>\n",
        "      <td>   leading</td>\n",
        "      <td>  65</td>\n",
        "      <td> 0.5</td>\n",
        "      <td> 0.000290</td>\n",
        "      <td> 1</td>\n",
        "      <td> 0.5</td>\n",
        "      <td>  32.5</td>\n",
        "    </tr>\n",
        "    <tr>\n",
        "      <th>8089 </th>\n",
        "      <td>    master</td>\n",
        "      <td>  65</td>\n",
        "      <td> 0.5</td>\n",
        "      <td> 0.000290</td>\n",
        "      <td> 1</td>\n",
        "      <td> 0.5</td>\n",
        "      <td>  32.5</td>\n",
        "    </tr>\n",
        "    <tr>\n",
        "      <th>6976 </th>\n",
        "      <td>      hope</td>\n",
        "      <td>  63</td>\n",
        "      <td> 0.5</td>\n",
        "      <td> 0.000281</td>\n",
        "      <td> 1</td>\n",
        "      <td> 0.5</td>\n",
        "      <td>  31.5</td>\n",
        "    </tr>\n",
        "    <tr>\n",
        "      <th>7003 </th>\n",
        "      <td>       hot</td>\n",
        "      <td>  54</td>\n",
        "      <td> 0.5</td>\n",
        "      <td> 0.000241</td>\n",
        "      <td> 1</td>\n",
        "      <td> 0.5</td>\n",
        "      <td>  27.0</td>\n",
        "    </tr>\n",
        "    <tr>\n",
        "      <th>8542 </th>\n",
        "      <td>      nice</td>\n",
        "      <td>  54</td>\n",
        "      <td> 0.5</td>\n",
        "      <td> 0.000241</td>\n",
        "      <td> 1</td>\n",
        "      <td> 0.5</td>\n",
        "      <td>  27.0</td>\n",
        "    </tr>\n",
        "    <tr>\n",
        "      <th>9413 </th>\n",
        "      <td>  powerful</td>\n",
        "      <td>  51</td>\n",
        "      <td> 0.5</td>\n",
        "      <td> 0.000227</td>\n",
        "      <td> 1</td>\n",
        "      <td> 0.5</td>\n",
        "      <td>  25.5</td>\n",
        "    </tr>\n",
        "    <tr>\n",
        "      <th>6731 </th>\n",
        "      <td>     happy</td>\n",
        "      <td>  51</td>\n",
        "      <td> 0.5</td>\n",
        "      <td> 0.000227</td>\n",
        "      <td> 1</td>\n",
        "      <td> 0.5</td>\n",
        "      <td>  25.5</td>\n",
        "    </tr>\n",
        "    <tr>\n",
        "      <th>6205 </th>\n",
        "      <td>      free</td>\n",
        "      <td>  49</td>\n",
        "      <td> 0.5</td>\n",
        "      <td> 0.000218</td>\n",
        "      <td> 1</td>\n",
        "      <td> 0.5</td>\n",
        "      <td>  24.5</td>\n",
        "    </tr>\n",
        "    <tr>\n",
        "      <th>3958 </th>\n",
        "      <td>     clear</td>\n",
        "      <td>  47</td>\n",
        "      <td> 0.5</td>\n",
        "      <td> 0.000209</td>\n",
        "      <td> 1</td>\n",
        "      <td> 0.5</td>\n",
        "      <td>  23.5</td>\n",
        "    </tr>\n",
        "    <tr>\n",
        "      <th>3046 </th>\n",
        "      <td> beautiful</td>\n",
        "      <td>  46</td>\n",
        "      <td> 0.5</td>\n",
        "      <td> 0.000205</td>\n",
        "      <td> 1</td>\n",
        "      <td> 0.5</td>\n",
        "      <td>  23.0</td>\n",
        "    </tr>\n",
        "    <tr>\n",
        "      <th>6443 </th>\n",
        "      <td>      glow</td>\n",
        "      <td>  46</td>\n",
        "      <td> 0.5</td>\n",
        "      <td> 0.000205</td>\n",
        "      <td> 1</td>\n",
        "      <td> 0.5</td>\n",
        "      <td>  23.0</td>\n",
        "    </tr>\n",
        "    <tr>\n",
        "      <th>3133 </th>\n",
        "      <td>      best</td>\n",
        "      <td>  44</td>\n",
        "      <td> 0.5</td>\n",
        "      <td> 0.000196</td>\n",
        "      <td> 1</td>\n",
        "      <td> 0.5</td>\n",
        "      <td>  22.0</td>\n",
        "    </tr>\n",
        "    <tr>\n",
        "      <th>7320 </th>\n",
        "      <td> instantly</td>\n",
        "      <td>  41</td>\n",
        "      <td> 0.5</td>\n",
        "      <td> 0.000183</td>\n",
        "      <td> 1</td>\n",
        "      <td> 0.5</td>\n",
        "      <td>  20.5</td>\n",
        "    </tr>\n",
        "    <tr>\n",
        "      <th>...</th>\n",
        "      <td>...</td>\n",
        "      <td>...</td>\n",
        "      <td>...</td>\n",
        "      <td>...</td>\n",
        "      <td>...</td>\n",
        "      <td>...</td>\n",
        "      <td>...</td>\n",
        "    </tr>\n",
        "    <tr>\n",
        "      <th>13351</th>\n",
        "      <td>     worry</td>\n",
        "      <td>  55</td>\n",
        "      <td> 0.5</td>\n",
        "      <td> 0.000245</td>\n",
        "      <td>-1</td>\n",
        "      <td>-0.5</td>\n",
        "      <td> -27.5</td>\n",
        "    </tr>\n",
        "    <tr>\n",
        "      <th>4427 </th>\n",
        "      <td>     crazy</td>\n",
        "      <td>  55</td>\n",
        "      <td> 0.5</td>\n",
        "      <td> 0.000245</td>\n",
        "      <td>-1</td>\n",
        "      <td>-0.5</td>\n",
        "      <td> -27.5</td>\n",
        "    </tr>\n",
        "    <tr>\n",
        "      <th>11739</th>\n",
        "      <td> struggles</td>\n",
        "      <td>  58</td>\n",
        "      <td> 0.5</td>\n",
        "      <td> 0.000258</td>\n",
        "      <td>-1</td>\n",
        "      <td>-0.5</td>\n",
        "      <td> -29.0</td>\n",
        "    </tr>\n",
        "    <tr>\n",
        "      <th>2896 </th>\n",
        "      <td>  backward</td>\n",
        "      <td>  62</td>\n",
        "      <td> 0.5</td>\n",
        "      <td> 0.000276</td>\n",
        "      <td>-1</td>\n",
        "      <td>-0.5</td>\n",
        "      <td> -31.0</td>\n",
        "    </tr>\n",
        "    <tr>\n",
        "      <th>2899 </th>\n",
        "      <td>       bad</td>\n",
        "      <td>  62</td>\n",
        "      <td> 0.5</td>\n",
        "      <td> 0.000276</td>\n",
        "      <td>-1</td>\n",
        "      <td>-0.5</td>\n",
        "      <td> -31.0</td>\n",
        "    </tr>\n",
        "    <tr>\n",
        "      <th>10777</th>\n",
        "      <td>   shocked</td>\n",
        "      <td>  63</td>\n",
        "      <td> 0.5</td>\n",
        "      <td> 0.000281</td>\n",
        "      <td>-1</td>\n",
        "      <td>-0.5</td>\n",
        "      <td> -31.5</td>\n",
        "    </tr>\n",
        "    <tr>\n",
        "      <th>5949 </th>\n",
        "      <td>      fist</td>\n",
        "      <td>  64</td>\n",
        "      <td> 0.5</td>\n",
        "      <td> 0.000285</td>\n",
        "      <td>-1</td>\n",
        "      <td>-0.5</td>\n",
        "      <td> -32.0</td>\n",
        "    </tr>\n",
        "    <tr>\n",
        "      <th>13399</th>\n",
        "      <td>     wrong</td>\n",
        "      <td>  64</td>\n",
        "      <td> 0.5</td>\n",
        "      <td> 0.000285</td>\n",
        "      <td>-1</td>\n",
        "      <td>-0.5</td>\n",
        "      <td> -32.0</td>\n",
        "    </tr>\n",
        "    <tr>\n",
        "      <th>7923 </th>\n",
        "      <td>      lost</td>\n",
        "      <td>  65</td>\n",
        "      <td> 0.5</td>\n",
        "      <td> 0.000290</td>\n",
        "      <td>-1</td>\n",
        "      <td>-0.5</td>\n",
        "      <td> -32.5</td>\n",
        "    </tr>\n",
        "    <tr>\n",
        "      <th>12041</th>\n",
        "      <td>     tanks</td>\n",
        "      <td>  70</td>\n",
        "      <td> 0.5</td>\n",
        "      <td> 0.000312</td>\n",
        "      <td>-1</td>\n",
        "      <td>-0.5</td>\n",
        "      <td> -35.0</td>\n",
        "    </tr>\n",
        "    <tr>\n",
        "      <th>10776</th>\n",
        "      <td>     shock</td>\n",
        "      <td>  70</td>\n",
        "      <td> 0.5</td>\n",
        "      <td> 0.000312</td>\n",
        "      <td>-1</td>\n",
        "      <td>-0.5</td>\n",
        "      <td> -35.0</td>\n",
        "    </tr>\n",
        "    <tr>\n",
        "      <th>6735 </th>\n",
        "      <td>      hard</td>\n",
        "      <td>  72</td>\n",
        "      <td> 0.5</td>\n",
        "      <td> 0.000321</td>\n",
        "      <td>-1</td>\n",
        "      <td>-0.5</td>\n",
        "      <td> -36.0</td>\n",
        "    </tr>\n",
        "    <tr>\n",
        "      <th>8915 </th>\n",
        "      <td>       pan</td>\n",
        "      <td>  73</td>\n",
        "      <td> 0.5</td>\n",
        "      <td> 0.000325</td>\n",
        "      <td>-1</td>\n",
        "      <td>-0.5</td>\n",
        "      <td> -36.5</td>\n",
        "    </tr>\n",
        "    <tr>\n",
        "      <th>2581 </th>\n",
        "      <td>   angrily</td>\n",
        "      <td>  77</td>\n",
        "      <td> 0.5</td>\n",
        "      <td> 0.000343</td>\n",
        "      <td>-1</td>\n",
        "      <td>-0.5</td>\n",
        "      <td> -38.5</td>\n",
        "    </tr>\n",
        "    <tr>\n",
        "      <th>3734 </th>\n",
        "      <td>      cave</td>\n",
        "      <td>  79</td>\n",
        "      <td> 0.5</td>\n",
        "      <td> 0.000352</td>\n",
        "      <td>-1</td>\n",
        "      <td>-0.5</td>\n",
        "      <td> -39.5</td>\n",
        "    </tr>\n",
        "    <tr>\n",
        "      <th>3406 </th>\n",
        "      <td>    breaks</td>\n",
        "      <td>  83</td>\n",
        "      <td> 0.5</td>\n",
        "      <td> 0.000370</td>\n",
        "      <td>-1</td>\n",
        "      <td>-0.5</td>\n",
        "      <td> -41.5</td>\n",
        "    </tr>\n",
        "    <tr>\n",
        "      <th>5259 </th>\n",
        "      <td>      dust</td>\n",
        "      <td>  85</td>\n",
        "      <td> 0.5</td>\n",
        "      <td> 0.000379</td>\n",
        "      <td>-1</td>\n",
        "      <td>-0.5</td>\n",
        "      <td> -42.5</td>\n",
        "    </tr>\n",
        "    <tr>\n",
        "      <th>8339 </th>\n",
        "      <td>   monster</td>\n",
        "      <td>  85</td>\n",
        "      <td> 0.5</td>\n",
        "      <td> 0.000379</td>\n",
        "      <td>-1</td>\n",
        "      <td>-0.5</td>\n",
        "      <td> -42.5</td>\n",
        "    </tr>\n",
        "    <tr>\n",
        "      <th>11273</th>\n",
        "      <td>     sorry</td>\n",
        "      <td>  87</td>\n",
        "      <td> 0.5</td>\n",
        "      <td> 0.000388</td>\n",
        "      <td>-1</td>\n",
        "      <td>-0.5</td>\n",
        "      <td> -43.5</td>\n",
        "    </tr>\n",
        "    <tr>\n",
        "      <th>7974 </th>\n",
        "      <td>     lying</td>\n",
        "      <td>  88</td>\n",
        "      <td> 0.5</td>\n",
        "      <td> 0.000392</td>\n",
        "      <td>-1</td>\n",
        "      <td>-0.5</td>\n",
        "      <td> -44.0</td>\n",
        "    </tr>\n",
        "    <tr>\n",
        "      <th>5749 </th>\n",
        "      <td>   falling</td>\n",
        "      <td>  89</td>\n",
        "      <td> 0.5</td>\n",
        "      <td> 0.000397</td>\n",
        "      <td>-1</td>\n",
        "      <td>-0.5</td>\n",
        "      <td> -44.5</td>\n",
        "    </tr>\n",
        "    <tr>\n",
        "      <th>2802 </th>\n",
        "      <td>    attack</td>\n",
        "      <td>  92</td>\n",
        "      <td> 0.5</td>\n",
        "      <td> 0.000410</td>\n",
        "      <td>-1</td>\n",
        "      <td>-0.5</td>\n",
        "      <td> -46.0</td>\n",
        "    </tr>\n",
        "    <tr>\n",
        "      <th>11115</th>\n",
        "      <td>     smoke</td>\n",
        "      <td>  93</td>\n",
        "      <td> 0.5</td>\n",
        "      <td> 0.000414</td>\n",
        "      <td>-1</td>\n",
        "      <td>-0.5</td>\n",
        "      <td> -46.5</td>\n",
        "    </tr>\n",
        "    <tr>\n",
        "      <th>4627 </th>\n",
        "      <td>      dark</td>\n",
        "      <td>  93</td>\n",
        "      <td> 0.5</td>\n",
        "      <td> 0.000414</td>\n",
        "      <td>-1</td>\n",
        "      <td>-0.5</td>\n",
        "      <td> -46.5</td>\n",
        "    </tr>\n",
        "    <tr>\n",
        "      <th>2582 </th>\n",
        "      <td>     angry</td>\n",
        "      <td>  98</td>\n",
        "      <td> 0.5</td>\n",
        "      <td> 0.000437</td>\n",
        "      <td>-1</td>\n",
        "      <td>-0.5</td>\n",
        "      <td> -49.0</td>\n",
        "    </tr>\n",
        "    <tr>\n",
        "      <th>4007 </th>\n",
        "      <td>     cloud</td>\n",
        "      <td>  98</td>\n",
        "      <td> 0.5</td>\n",
        "      <td> 0.000437</td>\n",
        "      <td>-1</td>\n",
        "      <td>-0.5</td>\n",
        "      <td> -49.0</td>\n",
        "    </tr>\n",
        "    <tr>\n",
        "      <th>5747 </th>\n",
        "      <td>      fall</td>\n",
        "      <td> 104</td>\n",
        "      <td> 0.5</td>\n",
        "      <td> 0.000463</td>\n",
        "      <td>-1</td>\n",
        "      <td>-0.5</td>\n",
        "      <td> -52.0</td>\n",
        "    </tr>\n",
        "    <tr>\n",
        "      <th>8462 </th>\n",
        "      <td>        na</td>\n",
        "      <td> 182</td>\n",
        "      <td> 0.5</td>\n",
        "      <td> 0.000811</td>\n",
        "      <td>-1</td>\n",
        "      <td>-0.5</td>\n",
        "      <td> -91.0</td>\n",
        "    </tr>\n",
        "    <tr>\n",
        "      <th>5750 </th>\n",
        "      <td>     falls</td>\n",
        "      <td> 220</td>\n",
        "      <td> 0.5</td>\n",
        "      <td> 0.000980</td>\n",
        "      <td>-1</td>\n",
        "      <td>-0.5</td>\n",
        "      <td>-110.0</td>\n",
        "    </tr>\n",
        "    <tr>\n",
        "      <th>11064</th>\n",
        "      <td>    slowly</td>\n",
        "      <td> 249</td>\n",
        "      <td> 0.5</td>\n",
        "      <td> 0.001109</td>\n",
        "      <td>-1</td>\n",
        "      <td>-0.5</td>\n",
        "      <td>-124.5</td>\n",
        "    </tr>\n",
        "  </tbody>\n",
        "</table>\n",
        "<p>1893 rows \u00d7 7 columns</p>\n",
        "</div>"
       ],
       "metadata": {},
       "output_type": "pyout",
       "prompt_number": 75,
       "text": [
        "            Word  Word Count  Frequency-Weight  Share of Words  Polarity  \\\n",
        "10188      right         639               0.5        0.002847         1   \n",
        "7803        like         615               0.5        0.002740         1   \n",
        "12364        top         280               0.5        0.001247         1   \n",
        "11106     smiles         204               0.5        0.000909         1   \n",
        "6471        good         168               0.5        0.000748         1   \n",
        "6534       great         157               0.5        0.000699         1   \n",
        "11109    smiling         156               0.5        0.000695         1   \n",
        "9807       ready         127               0.5        0.000566         1   \n",
        "3961     clearly         102               0.5        0.000454         1   \n",
        "11105      smile          98               0.5        0.000437         1   \n",
        "13151       well          95               0.5        0.000423         1   \n",
        "3141      better          91               0.5        0.000405         1   \n",
        "5474      enough          80               0.5        0.000356         1   \n",
        "7933        love          79               0.5        0.000352         1   \n",
        "13336       work          73               0.5        0.000325         1   \n",
        "11883   surprise          69               0.5        0.000307         1   \n",
        "9472      pretty          66               0.5        0.000294         1   \n",
        "7691     leading          65               0.5        0.000290         1   \n",
        "8089      master          65               0.5        0.000290         1   \n",
        "6976        hope          63               0.5        0.000281         1   \n",
        "7003         hot          54               0.5        0.000241         1   \n",
        "8542        nice          54               0.5        0.000241         1   \n",
        "9413    powerful          51               0.5        0.000227         1   \n",
        "6731       happy          51               0.5        0.000227         1   \n",
        "6205        free          49               0.5        0.000218         1   \n",
        "3958       clear          47               0.5        0.000209         1   \n",
        "3046   beautiful          46               0.5        0.000205         1   \n",
        "6443        glow          46               0.5        0.000205         1   \n",
        "3133        best          44               0.5        0.000196         1   \n",
        "7320   instantly          41               0.5        0.000183         1   \n",
        "...          ...         ...               ...             ...       ...   \n",
        "13351      worry          55               0.5        0.000245        -1   \n",
        "4427       crazy          55               0.5        0.000245        -1   \n",
        "11739  struggles          58               0.5        0.000258        -1   \n",
        "2896    backward          62               0.5        0.000276        -1   \n",
        "2899         bad          62               0.5        0.000276        -1   \n",
        "10777    shocked          63               0.5        0.000281        -1   \n",
        "5949        fist          64               0.5        0.000285        -1   \n",
        "13399      wrong          64               0.5        0.000285        -1   \n",
        "7923        lost          65               0.5        0.000290        -1   \n",
        "12041      tanks          70               0.5        0.000312        -1   \n",
        "10776      shock          70               0.5        0.000312        -1   \n",
        "6735        hard          72               0.5        0.000321        -1   \n",
        "8915         pan          73               0.5        0.000325        -1   \n",
        "2581     angrily          77               0.5        0.000343        -1   \n",
        "3734        cave          79               0.5        0.000352        -1   \n",
        "3406      breaks          83               0.5        0.000370        -1   \n",
        "5259        dust          85               0.5        0.000379        -1   \n",
        "8339     monster          85               0.5        0.000379        -1   \n",
        "11273      sorry          87               0.5        0.000388        -1   \n",
        "7974       lying          88               0.5        0.000392        -1   \n",
        "5749     falling          89               0.5        0.000397        -1   \n",
        "2802      attack          92               0.5        0.000410        -1   \n",
        "11115      smoke          93               0.5        0.000414        -1   \n",
        "4627        dark          93               0.5        0.000414        -1   \n",
        "2582       angry          98               0.5        0.000437        -1   \n",
        "4007       cloud          98               0.5        0.000437        -1   \n",
        "5747        fall         104               0.5        0.000463        -1   \n",
        "8462          na         182               0.5        0.000811        -1   \n",
        "5750       falls         220               0.5        0.000980        -1   \n",
        "11064     slowly         249               0.5        0.001109        -1   \n",
        "\n",
        "       Adjusted Sentiment  Relative Weight  \n",
        "10188                 0.5            319.5  \n",
        "7803                  0.5            307.5  \n",
        "12364                 0.5            140.0  \n",
        "11106                 0.5            102.0  \n",
        "6471                  0.5             84.0  \n",
        "6534                  0.5             78.5  \n",
        "11109                 0.5             78.0  \n",
        "9807                  0.5             63.5  \n",
        "3961                  0.5             51.0  \n",
        "11105                 0.5             49.0  \n",
        "13151                 0.5             47.5  \n",
        "3141                  0.5             45.5  \n",
        "5474                  0.5             40.0  \n",
        "7933                  0.5             39.5  \n",
        "13336                 0.5             36.5  \n",
        "11883                 0.5             34.5  \n",
        "9472                  0.5             33.0  \n",
        "7691                  0.5             32.5  \n",
        "8089                  0.5             32.5  \n",
        "6976                  0.5             31.5  \n",
        "7003                  0.5             27.0  \n",
        "8542                  0.5             27.0  \n",
        "9413                  0.5             25.5  \n",
        "6731                  0.5             25.5  \n",
        "6205                  0.5             24.5  \n",
        "3958                  0.5             23.5  \n",
        "3046                  0.5             23.0  \n",
        "6443                  0.5             23.0  \n",
        "3133                  0.5             22.0  \n",
        "7320                  0.5             20.5  \n",
        "...                   ...              ...  \n",
        "13351                -0.5            -27.5  \n",
        "4427                 -0.5            -27.5  \n",
        "11739                -0.5            -29.0  \n",
        "2896                 -0.5            -31.0  \n",
        "2899                 -0.5            -31.0  \n",
        "10777                -0.5            -31.5  \n",
        "5949                 -0.5            -32.0  \n",
        "13399                -0.5            -32.0  \n",
        "7923                 -0.5            -32.5  \n",
        "12041                -0.5            -35.0  \n",
        "10776                -0.5            -35.0  \n",
        "6735                 -0.5            -36.0  \n",
        "8915                 -0.5            -36.5  \n",
        "2581                 -0.5            -38.5  \n",
        "3734                 -0.5            -39.5  \n",
        "3406                 -0.5            -41.5  \n",
        "5259                 -0.5            -42.5  \n",
        "8339                 -0.5            -42.5  \n",
        "11273                -0.5            -43.5  \n",
        "7974                 -0.5            -44.0  \n",
        "5749                 -0.5            -44.5  \n",
        "2802                 -0.5            -46.0  \n",
        "11115                -0.5            -46.5  \n",
        "4627                 -0.5            -46.5  \n",
        "2582                 -0.5            -49.0  \n",
        "4007                 -0.5            -49.0  \n",
        "5747                 -0.5            -52.0  \n",
        "8462                 -0.5            -91.0  \n",
        "5750                 -0.5           -110.0  \n",
        "11064                -0.5           -124.5  \n",
        "\n",
        "[1893 rows x 7 columns]"
       ]
      }
     ],
     "prompt_number": 75
    },
    {
     "cell_type": "code",
     "collapsed": false,
     "input": [
      "a_df['Relative Weight'].sum()"
     ],
     "language": "python",
     "metadata": {},
     "outputs": [
      {
       "metadata": {},
       "output_type": "pyout",
       "prompt_number": 59,
       "text": [
        "-2181.0"
       ]
      }
     ],
     "prompt_number": 59
    },
    {
     "cell_type": "code",
     "collapsed": false,
     "input": [
      "pos_20 = a_df.sort(columns='Relative Weight', ascending=False).head(50)"
     ],
     "language": "python",
     "metadata": {},
     "outputs": [],
     "prompt_number": 60
    },
    {
     "cell_type": "code",
     "collapsed": false,
     "input": [
      "neg_20 = a_df.sort(columns='Relative Weight', ascending=True).head(50)"
     ],
     "language": "python",
     "metadata": {},
     "outputs": [],
     "prompt_number": 61
    },
    {
     "cell_type": "code",
     "collapsed": false,
     "input": [
      "top_10_negative_words = [\n",
      "'fall',\n",
      "'angry',\n",
      "'cloud', #remember the episode with the fortune teller?\n",
      "'dark',\n",
      "'smoke',\n",
      "'attack',\n",
      "'lying',\n",
      "'sorry',\n",
      "'monster',\n",
      "'tanks',\n",
      "'lost',\n",
      "'wrong',\n",
      "'bad',\n",
      "'crazy'\n",
      "]"
     ],
     "language": "python",
     "metadata": {},
     "outputs": [],
     "prompt_number": 72
    },
    {
     "cell_type": "code",
     "collapsed": false,
     "input": [
      "top_10_positive_words = [\n",
      "'like',\n",
      "'good',\n",
      "'great',\n",
      "'smile',\n",
      "'love',\n",
      "'surprise',\n",
      "'pretty',\n",
      "'master',\n",
      "'hope',\n",
      "'hot',\n",
      "'powerful',\n",
      "'beautiful',\n",
      "'happy',\n",
      "'free'\n",
      "]"
     ],
     "language": "python",
     "metadata": {},
     "outputs": [],
     "prompt_number": 71
    },
    {
     "cell_type": "code",
     "collapsed": false,
     "input": [],
     "language": "python",
     "metadata": {},
     "outputs": []
    }
   ],
   "metadata": {}
  }
 ]
}
